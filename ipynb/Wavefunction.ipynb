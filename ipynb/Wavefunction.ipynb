{
 "cells": [
  {
   "cell_type": "code",
   "execution_count": 1,
   "id": "90178d85",
   "metadata": {},
   "outputs": [],
   "source": [
    "import numpy as np\n",
    "from scipy.integrate import quad\n",
    "import math\n",
    "import matplotlib.pyplot as plt"
   ]
  },
  {
   "cell_type": "code",
   "execution_count": 2,
   "id": "746c5f1a",
   "metadata": {},
   "outputs": [],
   "source": [
    "global glo_coeff #this variable will be accessible globally"
   ]
  },
  {
   "cell_type": "code",
   "execution_count": 3,
   "id": "936a8645",
   "metadata": {},
   "outputs": [],
   "source": [
    "#returns the norm\n",
    "def get_norm(k):\n",
    "    return ((2**(1-k))/math.pi)**0.25"
   ]
  },
  {
   "cell_type": "code",
   "execution_count": 4,
   "id": "ea32d387",
   "metadata": {},
   "outputs": [],
   "source": [
    "#returns the coeffienct of the dot product\n",
    "def get_exp(k,l):\n",
    "    return (2**(-k) + 2**(-l))"
   ]
  },
  {
   "cell_type": "code",
   "execution_count": 5,
   "id": "ff6f5db6",
   "metadata": {},
   "outputs": [],
   "source": [
    "#returns integrand\n",
    "def get_integrand(x):\n",
    "    return np.exp(-glo_coeff*x**(2))"
   ]
  },
  {
   "cell_type": "code",
   "execution_count": 10,
   "id": "073e95bf",
   "metadata": {},
   "outputs": [
    {
     "data": {
      "image/png": "[encoded data removed]",
      "text/plain": [
       "<Figure size 640x480 with 1 Axes>"
      ]
     },
     "metadata": {},
     "output_type": "display_data"
    }
   ],
   "source": [
    "maxN=20 \n",
    "N_list=[]\n",
    "min_eig_list=[]\n",
    "\n",
    "for N in range(1,maxN+1):\n",
    "    S=np.zeros((N,N))\n",
    "    for k in range(N):\n",
    "        for l in range(N):\n",
    "            glo_coeff = get_exp(k,l)\n",
    "            result,error = quad(get_integrand,-np.inf,np.inf)\n",
    "            S[k][l] = get_norm(k)*get_norm(l)*result\n",
    "    min_eig_list.append(np.min(np.linalg.eigvals(S)))\n",
    "    N_list.append(N)\n",
    "\n",
    "plt.plot(N_list,min_eig_list)\n",
    "plt.xlabel('N')\n",
    "plt.ylabel('Min. Eig. Val')\n",
    "plt.xticks(range(1,maxN+1))\n",
    "plt.show()"
   ]
  },
  {
   "cell_type": "code",
   "execution_count": null,
   "id": "3f8e681d",
   "metadata": {},
   "outputs": [],
   "source": []
  },
  {
   "cell_type": "code",
   "execution_count": null,
   "id": "1465f53a",
   "metadata": {},
   "outputs": [],
   "source": []
  },
  {
   "cell_type": "code",
   "execution_count": null,
   "id": "828ee32a",
   "metadata": {},
   "outputs": [],
   "source": []
  },
  {
   "cell_type": "code",
   "execution_count": null,
   "id": "1b688a2d",
   "metadata": {},
   "outputs": [],
   "source": []
  },
  {
   "cell_type": "code",
   "execution_count": null,
   "id": "736be5c7",
   "metadata": {},
   "outputs": [],
   "source": []
  },
  {
   "cell_type": "code",
   "execution_count": null,
   "id": "8982cb01",
   "metadata": {},
   "outputs": [],
   "source": []
  },
  {
   "cell_type": "code",
   "execution_count": null,
   "id": "c487dbfa",
   "metadata": {},
   "outputs": [],
   "source": []
  },
  {
   "cell_type": "code",
   "execution_count": null,
   "id": "563c0f0e",
   "metadata": {},
   "outputs": [],
   "source": []
  }
 ],
 "metadata": {
  "kernelspec": {
   "display_name": "Python 3 (ipykernel)",
   "language": "python",
   "name": "python3"
  },
  "language_info": {
   "codemirror_mode": {
    "name": "ipython",
    "version": 3
   },
   "file_extension": ".py",
   "mimetype": "text/x-python",
   "name": "python",
   "nbconvert_exporter": "python",
   "pygments_lexer": "ipython3",
   "version": "3.11.5"
  }
 },
 "nbformat": 4,
 "nbformat_minor": 5
}
