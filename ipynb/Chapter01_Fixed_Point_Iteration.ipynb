{
 "cells": [
  {
   "cell_type": "markdown",
   "id": "4d9aff70",
   "metadata": {},
   "source": [
    "# Find square root of 5 by fixed point iteration"
   ]
  },
  {
   "cell_type": "code",
   "execution_count": 30,
   "id": "ad32df25",
   "metadata": {},
   "outputs": [],
   "source": [
    "def g(x,A):\n",
    "    val=(1/2)*(x+A/x)\n",
    "    return val"
   ]
  },
  {
   "cell_type": "code",
   "execution_count": 31,
   "id": "a98fdf3b",
   "metadata": {},
   "outputs": [],
   "source": [
    "A=5"
   ]
  },
  {
   "cell_type": "code",
   "execution_count": 32,
   "id": "f000af16",
   "metadata": {},
   "outputs": [],
   "source": [
    "x0=1"
   ]
  },
  {
   "cell_type": "code",
   "execution_count": 33,
   "id": "c45945a7",
   "metadata": {},
   "outputs": [
    {
     "name": "stdout",
     "output_type": "stream",
     "text": [
      "3.0\n"
     ]
    }
   ],
   "source": [
    "x1=g(x0,A)\n",
    "print(x1)"
   ]
  },
  {
   "cell_type": "code",
   "execution_count": 34,
   "id": "96ee78c8",
   "metadata": {},
   "outputs": [
    {
     "name": "stdout",
     "output_type": "stream",
     "text": [
      "2.3333333333333335\n"
     ]
    }
   ],
   "source": [
    "x2=g(x1,A)\n",
    "print(x2)"
   ]
  },
  {
   "cell_type": "code",
   "execution_count": 35,
   "id": "1f953381",
   "metadata": {},
   "outputs": [
    {
     "name": "stdout",
     "output_type": "stream",
     "text": [
      "2.238095238095238\n"
     ]
    }
   ],
   "source": [
    "x3=g(x2,A)\n",
    "print(x3)"
   ]
  },
  {
   "cell_type": "code",
   "execution_count": 36,
   "id": "db10341a",
   "metadata": {},
   "outputs": [
    {
     "name": "stdout",
     "output_type": "stream",
     "text": [
      "2.23606797749979\n"
     ]
    }
   ],
   "source": [
    "import numpy\n",
    "print(numpy.sqrt(5))"
   ]
  },
  {
   "cell_type": "markdown",
   "id": "09388e13",
   "metadata": {},
   "source": [
    "# For loop"
   ]
  },
  {
   "cell_type": "code",
   "execution_count": 37,
   "id": "d5f80220",
   "metadata": {},
   "outputs": [
    {
     "name": "stdout",
     "output_type": "stream",
     "text": [
      "0 1 3.0\n",
      "1 3.0 2.3333333333333335\n",
      "2 2.3333333333333335 2.238095238095238\n",
      "3 2.238095238095238 2.2360688956433634\n"
     ]
    }
   ],
   "source": [
    "# Number, whose square root we want to find\n",
    "A=5\n",
    "\n",
    "# Maximum number of steps\n",
    "MaxIter=4\n",
    "\n",
    "# Start with a guess\n",
    "xold=1\n",
    "\n",
    "# Iterate\n",
    "for n in range(MaxIter):\n",
    "    xnew=g(xold,A)\n",
    "    print(n,xold,xnew)\n",
    "    xold=xnew"
   ]
  },
  {
   "cell_type": "code",
   "execution_count": 38,
   "id": "c2546db8",
   "metadata": {},
   "outputs": [
    {
     "name": "stdout",
     "output_type": "stream",
     "text": [
      "    0      1.00000000      3.00000000\n",
      "    1      3.00000000      2.33333333\n",
      "    2      2.33333333      2.23809524\n",
      "    3      2.23809524      2.23606890\n"
     ]
    }
   ],
   "source": [
    "# Number, whose square root we want to find\n",
    "A=5\n",
    "\n",
    "# Maximum number of steps\n",
    "MaxIter=4\n",
    "\n",
    "# Start with a guess\n",
    "xold=1\n",
    "\n",
    "# Iterate\n",
    "for n in range(MaxIter):\n",
    "    xnew=g(xold,A)\n",
    "    fstr = \"{:5d} {:15.8f} {:15.8f}\".format(n, xold, xnew)\n",
    "    print(fstr)\n",
    "    xold=xnew"
   ]
  },
  {
   "cell_type": "code",
   "execution_count": 39,
   "id": "06219da4",
   "metadata": {},
   "outputs": [
    {
     "name": "stdout",
     "output_type": "stream",
     "text": [
      "    0      1.00000000      3.00000000\n",
      "    1      3.00000000      2.33333333\n",
      "    2      2.33333333      2.23809524\n",
      "    3      2.23809524      2.23606890\n"
     ]
    }
   ],
   "source": [
    "# Number, whose square root we want to find\n",
    "A=5\n",
    "\n",
    "# Maximum number of steps\n",
    "MaxIter=4\n",
    "\n",
    "# Start with a guess\n",
    "xold=1\n",
    "\n",
    "# Iterate\n",
    "for n in range(MaxIter):\n",
    "    xnew=g(xold,A)\n",
    "    output = \"{val1:5d} {val2:15.8f} {val3:15.8f}\"\n",
    "    print(output.format(val1=n, val2=xold, val3=xnew))\n",
    "    xold=xnew"
   ]
  },
  {
   "cell_type": "markdown",
   "id": "08bb641a",
   "metadata": {},
   "source": [
    "# Convergence and Error bound"
   ]
  },
  {
   "cell_type": "code",
   "execution_count": 40,
   "id": "762c0fc7",
   "metadata": {},
   "outputs": [
    {
     "name": "stdout",
     "output_type": "stream",
     "text": [
      "    n      x_n             x_(n+1)         |x_n-x^*|      upper-bound\n",
      "    0      1.00000000      3.00000000      1.23606798\n",
      "    1      3.00000000      2.33333333      0.76393202\n",
      "    2      2.33333333      2.23809524      0.09726536      0.11111111\n",
      "    3      2.23809524      2.23606890      0.00202726      0.03703704\n",
      "    4      2.23606890      2.23606798      0.00000092      0.01234568\n",
      "    5      2.23606798      2.23606798      0.00000000      0.00411523\n",
      "    6      2.23606798      2.23606798      0.00000000      0.00137174\n",
      "    7      2.23606798      2.23606798      0.00000000      0.00045725\n",
      "    8      2.23606798      2.23606798      0.00000000      0.00015242\n",
      "    9      2.23606798      2.23606798      0.00000000      0.00005081\n",
      "\n",
      " Error bound estimated using k = 0.3333\n"
     ]
    }
   ],
   "source": [
    "import numpy as np\n",
    "\n",
    "A=5\n",
    "\n",
    "x_exact=np.sqrt(A)\n",
    "\n",
    "b=3\n",
    "a=2\n",
    "\n",
    "MaxIter=10\n",
    "\n",
    "xold=1\n",
    "\n",
    "print('    n      x_n             x_(n+1)         |x_n-x^*|      upper-bound')\n",
    "\n",
    "for n in range(MaxIter):\n",
    "    \n",
    "    xnew=g(xold,A)\n",
    "    \n",
    "    ratio=1\n",
    "    \n",
    "    if n == 0:\n",
    "        x0=xold\n",
    "        x1=xnew\n",
    "        \n",
    "    if n == 1:\n",
    "        x2=xnew\n",
    "        k=np.abs((x2-x1)/(x1-x0))\n",
    "        \n",
    "    error=np.abs(x_exact-xold)\n",
    "    \n",
    "    if n > 1:\n",
    "    \n",
    "        upperbound_error=(b-a)*k**n\n",
    "    \n",
    "        output = \"{val1:5d} {val2:15.8f} {val3:15.8f} {val4:15.8f} {val5:15.8f}\"\n",
    "    \n",
    "        print(output.format(val1=n, val2=xold, val3=xnew, val4=error, val5=upperbound_error))\n",
    "    else:\n",
    "        output = \"{val1:5d} {val2:15.8f} {val3:15.8f} {val4:15.8f}\"\n",
    "    \n",
    "        print(output.format(val1=n, val2=xold, val3=xnew, val4=error))\n",
    "    \n",
    "    xold=xnew\n",
    "    \n",
    "output = \"\\n Error bound estimated using k = {val1:6.4f}\"\n",
    "print(output.format(val1=k))"
   ]
  },
  {
   "cell_type": "code",
   "execution_count": 41,
   "id": "0f54a7ad",
   "metadata": {},
   "outputs": [],
   "source": [
    "def g1(x):\n",
    "    return 5*(1-np.exp(-x))\n",
    "\n",
    "def g2(x):\n",
    "    return -np.log(1-x/5)\n",
    "\n"
   ]
  },
  {
   "cell_type": "code",
   "execution_count": 42,
   "id": "4bf0378c",
   "metadata": {},
   "outputs": [
    {
     "name": "stdout",
     "output_type": "stream",
     "text": [
      "    n          x1               x2\n",
      "    0      4.75106466      0.91629073\n",
      "    1      4.95678755      0.20243220\n",
      "    2      4.96482254      0.04132883\n",
      "    3      4.96510405      0.00830012\n",
      "    4      4.96511388      0.00166140\n",
      "    5      4.96511422      0.00033234\n",
      "    6      4.96511423      0.00006647\n",
      "    7      4.96511423      0.00001329\n",
      "    8      4.96511423      0.00000266\n",
      "    9      4.96511423      0.00000053\n",
      "   10      4.96511423      0.00000011\n",
      "   11      4.96511423      0.00000002\n",
      "   12      4.96511423      0.00000000\n",
      "   13      4.96511423      0.00000000\n",
      "   14      4.96511423      0.00000000\n"
     ]
    }
   ],
   "source": [
    "x0=3\n",
    "\n",
    "print('    n          x1               x2')\n",
    "for n in range(15):\n",
    "    if n==0:\n",
    "        xold = [x0,x0] #the first value will be used in g1 and second value in g2\n",
    "     \n",
    "    \n",
    "    xnew = [g1(xold[0]),g2(xold[1])]\n",
    "    \n",
    "    output = \"{val1:5d} {val2:15.8f} {val3:15.8f}\"\n",
    "    \n",
    "    print(output.format(val1=n,val2=xnew[0],val3=xnew[1]))\n",
    "    \n",
    "    xold = xnew\n",
    "    \n",
    "    "
   ]
  },
  {
   "cell_type": "code",
   "execution_count": 43,
   "id": "f3b2ec40",
   "metadata": {},
   "outputs": [
    {
     "data": {
      "text/plain": [
       "[4.965114231744277, 1.7016299482035577e-10]"
      ]
     },
     "execution_count": 43,
     "metadata": {},
     "output_type": "execute_result"
    }
   ],
   "source": [
    "xnew"
   ]
  },
  {
   "cell_type": "code",
   "execution_count": null,
   "id": "8ad6bcc0",
   "metadata": {},
   "outputs": [],
   "source": []
  }
 ],
 "metadata": {
  "kernelspec": {
   "display_name": "Python 3 (ipykernel)",
   "language": "python",
   "name": "python3"
  },
  "language_info": {
   "codemirror_mode": {
    "name": "ipython",
    "version": 3
   },
   "file_extension": ".py",
   "mimetype": "text/x-python",
   "name": "python",
   "nbconvert_exporter": "python",
   "pygments_lexer": "ipython3",
   "version": "3.11.5"
  }
 },
 "nbformat": 4,
 "nbformat_minor": 5
}
