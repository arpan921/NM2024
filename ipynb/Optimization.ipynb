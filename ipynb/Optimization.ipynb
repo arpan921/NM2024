{
 "cells": [
  {
   "cell_type": "code",
   "execution_count": 14,
   "id": "b13aba75",
   "metadata": {},
   "outputs": [],
   "source": [
    "import numpy as np\n",
    "from scipy import optimize"
   ]
  },
  {
   "cell_type": "code",
   "execution_count": 18,
   "id": "0d48962c",
   "metadata": {},
   "outputs": [],
   "source": [
    "def fun(x):\n",
    "    a=1\n",
    "    b=100\n",
    "    return (a-x[0])**2 + b*(x[1]-x[0]**2)**2"
   ]
  },
  {
   "cell_type": "code",
   "execution_count": 19,
   "id": "cce65a0b",
   "metadata": {},
   "outputs": [
    {
     "name": "stdout",
     "output_type": "stream",
     "text": [
      "       message: Optimization terminated successfully.\n",
      "       success: True\n",
      "        status: 0\n",
      "           fun: 3.6861769151759075e-10\n",
      "             x: [ 1.000e+00  1.000e+00]\n",
      "           nit: 79\n",
      "          nfev: 146\n",
      " final_simplex: (array([[ 1.000e+00,  1.000e+00],\n",
      "                       [ 1.000e+00,  9.999e-01],\n",
      "                       [ 1.000e+00,  1.000e+00]]), array([ 3.686e-10,  1.636e-09,  2.022e-09]))\n"
     ]
    }
   ],
   "source": [
    "X0=[0,0]\n",
    "out = optimize.minimize(fun,X0,method='Nelder-Mead')\n",
    "print(out)"
   ]
  },
  {
   "cell_type": "code",
   "execution_count": 20,
   "id": "bdb6defa",
   "metadata": {},
   "outputs": [
    {
     "name": "stdout",
     "output_type": "stream",
     "text": [
      "  message: CONVERGENCE: NORM_OF_PROJECTED_GRADIENT_<=_PGTOL\n",
      "  success: True\n",
      "   status: 0\n",
      "      fun: 9.13863116627194e-12\n",
      "        x: [ 1.000e+00  1.000e+00]\n",
      "      nit: 21\n",
      "      jac: [ 2.769e-06 -1.400e-06]\n",
      "     nfev: 78\n",
      "     njev: 26\n",
      " hess_inv: <2x2 LbfgsInvHessProduct with dtype=float64>\n"
     ]
    }
   ],
   "source": [
    "X0=[0,0]\n",
    "out = optimize.minimize(fun,X0,method='L-BFGS-B')\n",
    "print(out)"
   ]
  },
  {
   "cell_type": "code",
   "execution_count": 25,
   "id": "ab26aed6",
   "metadata": {},
   "outputs": [
    {
     "name": "stdout",
     "output_type": "stream",
     "text": [
      "       message: Optimization terminated successfully.\n",
      "       success: True\n",
      "        status: 0\n",
      "           fun: 0.00013887200714468386\n",
      "             x: [ 1.006e+00  1.013e+00]\n",
      "           nit: 33\n",
      "          nfev: 64\n",
      " final_simplex: (array([[ 1.006e+00,  1.013e+00],\n",
      "                       [ 9.965e-01,  9.918e-01],\n",
      "                       [ 9.879e-01,  9.767e-01]]), array([ 1.389e-04,  1.701e-04,  1.929e-04]))\n"
     ]
    }
   ],
   "source": [
    "X0=[0,0]\n",
    "out = optimize.minimize(fun,X0,method='Nelder-Mead',options={'initial_simplex':[[0,0],[0.1,0],[0,0.2]],'xatol':0.1})\n",
    "print(out)"
   ]
  },
  {
   "cell_type": "code",
   "execution_count": null,
   "id": "6bb730fc",
   "metadata": {},
   "outputs": [],
   "source": []
  }
 ],
 "metadata": {
  "kernelspec": {
   "display_name": "Python 3 (ipykernel)",
   "language": "python",
   "name": "python3"
  },
  "language_info": {
   "codemirror_mode": {
    "name": "ipython",
    "version": 3
   },
   "file_extension": ".py",
   "mimetype": "text/x-python",
   "name": "python",
   "nbconvert_exporter": "python",
   "pygments_lexer": "ipython3",
   "version": "3.11.5"
  }
 },
 "nbformat": 4,
 "nbformat_minor": 5
}
