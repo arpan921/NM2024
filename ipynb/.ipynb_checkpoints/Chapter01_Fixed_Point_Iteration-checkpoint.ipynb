{
 "cells": [
  {
   "cell_type": "markdown",
   "id": "4d9aff70",
   "metadata": {},
   "source": [
    "# Find square root of 5 by fixed point iteration"
   ]
  },
  {
   "cell_type": "code",
   "execution_count": 2,
   "id": "ad32df25",
   "metadata": {},
   "outputs": [],
   "source": [
    "def g(x,A):\n",
    "    val=(1/2)*(x+A/x)\n",
    "    return val"
   ]
  },
  {
   "cell_type": "code",
   "execution_count": 3,
   "id": "a98fdf3b",
   "metadata": {},
   "outputs": [],
   "source": [
    "A=5"
   ]
  },
  {
   "cell_type": "code",
   "execution_count": 4,
   "id": "f000af16",
   "metadata": {},
   "outputs": [],
   "source": [
    "x0=1"
   ]
  },
  {
   "cell_type": "code",
   "execution_count": 5,
   "id": "c45945a7",
   "metadata": {},
   "outputs": [
    {
     "name": "stdout",
     "output_type": "stream",
     "text": [
      "3.0\n"
     ]
    }
   ],
   "source": [
    "x1=g(x0,A)\n",
    "print(x1)"
   ]
  },
  {
   "cell_type": "code",
   "execution_count": 6,
   "id": "96ee78c8",
   "metadata": {},
   "outputs": [
    {
     "name": "stdout",
     "output_type": "stream",
     "text": [
      "2.3333333333333335\n"
     ]
    }
   ],
   "source": [
    "x2=g(x1,A)\n",
    "print(x2)"
   ]
  },
  {
   "cell_type": "code",
   "execution_count": 7,
   "id": "1f953381",
   "metadata": {},
   "outputs": [
    {
     "name": "stdout",
     "output_type": "stream",
     "text": [
      "2.238095238095238\n"
     ]
    }
   ],
   "source": [
    "x3=g(x2,A)\n",
    "print(x3)"
   ]
  },
  {
   "cell_type": "code",
   "execution_count": 8,
   "id": "db10341a",
   "metadata": {},
   "outputs": [
    {
     "name": "stdout",
     "output_type": "stream",
     "text": [
      "2.23606797749979\n"
     ]
    }
   ],
   "source": [
    "import numpy\n",
    "print(numpy.sqrt(5))"
   ]
  },
  {
   "cell_type": "markdown",
   "id": "09388e13",
   "metadata": {},
   "source": [
    "# For loop"
   ]
  },
  {
   "cell_type": "code",
   "execution_count": 9,
   "id": "d5f80220",
   "metadata": {},
   "outputs": [
    {
     "name": "stdout",
     "output_type": "stream",
     "text": [
      "0 1 3.0\n",
      "1 3.0 2.3333333333333335\n",
      "2 2.3333333333333335 2.238095238095238\n",
      "3 2.238095238095238 2.2360688956433634\n"
     ]
    }
   ],
   "source": [
    "# Number, whose square root we want to find\n",
    "A=5\n",
    "\n",
    "# Maximum number of steps\n",
    "MaxIter=4\n",
    "\n",
    "# Start with a guess\n",
    "xold=1\n",
    "\n",
    "# Iterate\n",
    "for n in range(MaxIter):\n",
    "    xnew=g(xold,A)\n",
    "    print(n,xold,xnew)\n",
    "    xold=xnew"
   ]
  },
  {
   "cell_type": "code",
   "execution_count": 10,
   "id": "c2546db8",
   "metadata": {},
   "outputs": [
    {
     "name": "stdout",
     "output_type": "stream",
     "text": [
      "    0      1.00000000      3.00000000\n",
      "    1      3.00000000      2.33333333\n",
      "    2      2.33333333      2.23809524\n",
      "    3      2.23809524      2.23606890\n"
     ]
    }
   ],
   "source": [
    "# Number, whose square root we want to find\n",
    "A=5\n",
    "\n",
    "# Maximum number of steps\n",
    "MaxIter=4\n",
    "\n",
    "# Start with a guess\n",
    "xold=1\n",
    "\n",
    "# Iterate\n",
    "for n in range(MaxIter):\n",
    "    xnew=g(xold,A)\n",
    "    fstr = \"{:5d} {:15.8f} {:15.8f}\".format(n, xold, xnew)\n",
    "    print(fstr)\n",
    "    xold=xnew"
   ]
  },
  {
   "cell_type": "code",
   "execution_count": 11,
   "id": "06219da4",
   "metadata": {},
   "outputs": [
    {
     "name": "stdout",
     "output_type": "stream",
     "text": [
      "    0      1.00000000      3.00000000\n",
      "    1      3.00000000      2.33333333\n",
      "    2      2.33333333      2.23809524\n",
      "    3      2.23809524      2.23606890\n"
     ]
    }
   ],
   "source": [
    "# Number, whose square root we want to find\n",
    "A=5\n",
    "\n",
    "# Maximum number of steps\n",
    "MaxIter=4\n",
    "\n",
    "# Start with a guess\n",
    "xold=1\n",
    "\n",
    "# Iterate\n",
    "for n in range(MaxIter):\n",
    "    xnew=g(xold,A)\n",
    "    output = \"{val1:5d} {val2:15.8f} {val3:15.8f}\"\n",
    "    print(output.format(val1=n, val2=xold, val3=xnew))\n",
    "    xold=xnew"
   ]
  },
  {
   "cell_type": "markdown",
   "id": "08bb641a",
   "metadata": {},
   "source": [
    "# Convergence and Error bound"
   ]
  },
  {
   "cell_type": "code",
   "execution_count": 12,
   "id": "762c0fc7",
   "metadata": {},
   "outputs": [
    {
     "name": "stdout",
     "output_type": "stream",
     "text": [
      "    n      x_n             x_(n+1)         |x_n-x^*|      upper-bound\n",
      "    0      1.00000000      3.00000000      1.23606798\n",
      "    1      3.00000000      2.33333333      0.76393202\n",
      "    2      2.33333333      2.23809524      0.09726536      0.11111111\n",
      "    3      2.23809524      2.23606890      0.00202726      0.03703704\n",
      "    4      2.23606890      2.23606798      0.00000092      0.01234568\n",
      "    5      2.23606798      2.23606798      0.00000000      0.00411523\n",
      "    6      2.23606798      2.23606798      0.00000000      0.00137174\n",
      "    7      2.23606798      2.23606798      0.00000000      0.00045725\n",
      "    8      2.23606798      2.23606798      0.00000000      0.00015242\n",
      "    9      2.23606798      2.23606798      0.00000000      0.00005081\n",
      "\n",
      " Error bound estimated using k = 0.3333\n"
     ]
    }
   ],
   "source": [
    "import numpy as np\n",
    "\n",
    "A=5\n",
    "\n",
    "x_exact=np.sqrt(A)\n",
    "\n",
    "b=3\n",
    "a=2\n",
    "\n",
    "MaxIter=10\n",
    "\n",
    "xold=1\n",
    "\n",
    "print('    n      x_n             x_(n+1)         |x_n-x^*|      upper-bound')\n",
    "\n",
    "for n in range(MaxIter):\n",
    "    \n",
    "    xnew=g(xold,A)\n",
    "    \n",
    "    ratio=1\n",
    "    \n",
    "    if n == 0:\n",
    "        x0=xold\n",
    "        x1=xnew\n",
    "        \n",
    "    if n == 1:\n",
    "        x2=xnew\n",
    "        k=np.abs((x2-x1)/(x1-x0))\n",
    "        \n",
    "    error=np.abs(x_exact-xold)\n",
    "    \n",
    "    if n > 1:\n",
    "    \n",
    "        upperbound_error=(b-a)*k**n\n",
    "    \n",
    "        output = \"{val1:5d} {val2:15.8f} {val3:15.8f} {val4:15.8f} {val5:15.8f}\"\n",
    "    \n",
    "        print(output.format(val1=n, val2=xold, val3=xnew, val4=error, val5=upperbound_error))\n",
    "    else:\n",
    "        output = \"{val1:5d} {val2:15.8f} {val3:15.8f} {val4:15.8f}\"\n",
    "    \n",
    "        print(output.format(val1=n, val2=xold, val3=xnew, val4=error))\n",
    "    \n",
    "    xold=xnew\n",
    "    \n",
    "output = \"\\n Error bound estimated using k = {val1:6.4f}\"\n",
    "print(output.format(val1=k))"
   ]
  },
  {
   "cell_type": "code",
   "execution_count": 13,
   "id": "0f54a7ad",
   "metadata": {},
   "outputs": [],
   "source": [
    "def g1(x):\n",
    "    return 5*(1-np.exp(-x))\n",
    "\n",
    "def g2(x):\n",
    "    return -np.log(1-x/5)\n",
    "\n"
   ]
  },
  {
   "cell_type": "code",
   "execution_count": 14,
   "id": "4bf0378c",
   "metadata": {},
   "outputs": [
    {
     "name": "stdout",
     "output_type": "stream",
     "text": [
      "    n          x1               x2\n",
      "    0      4.75106466      0.91629073\n",
      "    1      4.95678755      0.20243220\n",
      "    2      4.96482254      0.04132883\n",
      "    3      4.96510405      0.00830012\n",
      "    4      4.96511388      0.00166140\n",
      "    5      4.96511422      0.00033234\n",
      "    6      4.96511423      0.00006647\n",
      "    7      4.96511423      0.00001329\n",
      "    8      4.96511423      0.00000266\n",
      "    9      4.96511423      0.00000053\n",
      "   10      4.96511423      0.00000011\n",
      "   11      4.96511423      0.00000002\n",
      "   12      4.96511423      0.00000000\n",
      "   13      4.96511423      0.00000000\n",
      "   14      4.96511423      0.00000000\n"
     ]
    }
   ],
   "source": [
    "x0=3\n",
    "\n",
    "print('    n          x1               x2')\n",
    "for n in range(15):\n",
    "    if n==0:\n",
    "        xold = [x0,x0] #the first value will be used in g1 and second value in g2\n",
    "     \n",
    "    \n",
    "    xnew = [g1(xold[0]),g2(xold[1])]\n",
    "    \n",
    "    output = \"{val1:5d} {val2:15.8f} {val3:15.8f}\"\n",
    "    \n",
    "    print(output.format(val1=n,val2=xnew[0],val3=xnew[1]))\n",
    "    \n",
    "    xold = xnew\n",
    "    \n",
    "    "
   ]
  },
  {
   "cell_type": "code",
   "execution_count": 15,
   "id": "f3b2ec40",
   "metadata": {},
   "outputs": [
    {
     "data": {
      "text/plain": [
       "[4.965114231744277, 1.7016299482035577e-10]"
      ]
     },
     "execution_count": 15,
     "metadata": {},
     "output_type": "execute_result"
    }
   ],
   "source": [
    "xnew"
   ]
  },
  {
   "cell_type": "code",
   "execution_count": 16,
   "id": "8ad6bcc0",
   "metadata": {},
   "outputs": [],
   "source": [
    "#bisection method\n",
    "\n",
    "def sign(x):\n",
    "    if x<0:\n",
    "        return -1\n",
    "    elif x>0:\n",
    "        return 1\n",
    "    else:\n",
    "        return 0"
   ]
  },
  {
   "cell_type": "code",
   "execution_count": 17,
   "id": "aaea222b",
   "metadata": {},
   "outputs": [],
   "source": [
    "def f(x):\n",
    "    return x**2 - 5\n"
   ]
  },
  {
   "cell_type": "code",
   "execution_count": 18,
   "id": "a43230b1",
   "metadata": {},
   "outputs": [
    {
     "name": "stdout",
     "output_type": "stream",
     "text": [
      "x = 2.5\n",
      "x = 2.25\n",
      "x = 2.125\n",
      "x = 2.1875\n",
      "x = 2.21875\n",
      "x = 2.234375\n",
      "x = 2.2421875\n",
      "x = 2.23828125\n",
      "x = 2.236328125\n",
      "x = 2.2353515625\n",
      "x = 2.23583984375\n"
     ]
    }
   ],
   "source": [
    "a=2\n",
    "b=3\n",
    "threshold=0.001\n",
    "xsol=a\n",
    "while(True):\n",
    "    if (sign(f(a))==sign(f(b))):\n",
    "        print(\"signs at two ends are same, exiting the loop...\")\n",
    "        break\n",
    "    else:\n",
    "        c = (a+b)/2\n",
    "        print('x =',c)\n",
    "        if abs(a-b)<threshold:\n",
    "            xsol = c\n",
    "            break\n",
    "        else:\n",
    "            if (sign(f(c))==sign(f(a))):\n",
    "                a=c\n",
    "            elif (sign(f(c))==sign(f(b))):\n",
    "                b=c\n"
   ]
  },
  {
   "cell_type": "code",
   "execution_count": 19,
   "id": "6d62ee7a",
   "metadata": {},
   "outputs": [
    {
     "data": {
      "text/plain": [
       "2.23583984375"
      ]
     },
     "execution_count": 19,
     "metadata": {},
     "output_type": "execute_result"
    }
   ],
   "source": [
    "xsol"
   ]
  },
  {
   "cell_type": "code",
   "execution_count": 20,
   "id": "7b7cc30a",
   "metadata": {},
   "outputs": [
    {
     "data": {
      "text/plain": [
       "4.998979806900024"
      ]
     },
     "execution_count": 20,
     "metadata": {},
     "output_type": "execute_result"
    }
   ],
   "source": [
    "xsol**2"
   ]
  },
  {
   "cell_type": "code",
   "execution_count": 21,
   "id": "b3d7236c",
   "metadata": {},
   "outputs": [],
   "source": [
    "def diff(x,f):\n",
    "    h=0.0001\n",
    "    return ((f(x+h)-f(x))/h)\n"
   ]
  },
  {
   "cell_type": "code",
   "execution_count": 22,
   "id": "d44067c7",
   "metadata": {},
   "outputs": [
    {
     "data": {
      "text/plain": [
       "3.0"
      ]
     },
     "execution_count": 22,
     "metadata": {},
     "output_type": "execute_result"
    }
   ],
   "source": [
    "g(1,5)"
   ]
  },
  {
   "cell_type": "code",
   "execution_count": 23,
   "id": "e483a07b",
   "metadata": {},
   "outputs": [],
   "source": [
    "def g(x,f):\n",
    "    return x - f/diff(x,f)"
   ]
  },
  {
   "cell_type": "code",
   "execution_count": 24,
   "id": "d91f0a84",
   "metadata": {},
   "outputs": [],
   "source": [
    "x0=2"
   ]
  },
  {
   "cell_type": "code",
   "execution_count": 25,
   "id": "a5da7f43",
   "metadata": {},
   "outputs": [
    {
     "name": "stdout",
     "output_type": "stream",
     "text": [
      "2\n",
      "2.2499937501557565\n",
      "2.2361113810383624\n"
     ]
    }
   ],
   "source": [
    "x=x0  #newton raphson\n",
    "while(1):\n",
    "    print(x)\n",
    "    if diff(x,f)<threshold:\n",
    "        print('warning...aborting!!!')\n",
    "        break\n",
    "    elif abs(f(x))<threshold:\n",
    "        xsol=x\n",
    "        break\n",
    "    x = x - f(x)/diff(x,f)"
   ]
  },
  {
   "cell_type": "code",
   "execution_count": 26,
   "id": "153a9695",
   "metadata": {},
   "outputs": [
    {
     "data": {
      "text/plain": [
       "2.2361113810383624"
      ]
     },
     "execution_count": 26,
     "metadata": {},
     "output_type": "execute_result"
    }
   ],
   "source": [
    "xsol"
   ]
  },
  {
   "cell_type": "code",
   "execution_count": 27,
   "id": "a5b484ad",
   "metadata": {},
   "outputs": [],
   "source": [
    "import numpy as np\n",
    "import matplotlib as mpl\n",
    "import matplotlib.pyplot as plt"
   ]
  },
  {
   "cell_type": "code",
   "execution_count": 28,
   "id": "0636e5b9",
   "metadata": {},
   "outputs": [],
   "source": [
    "import imageio.v2 as imageio"
   ]
  },
  {
   "cell_type": "code",
   "execution_count": 29,
   "id": "bf6fc92e",
   "metadata": {},
   "outputs": [],
   "source": [
    "import os"
   ]
  },
  {
   "cell_type": "code",
   "execution_count": 30,
   "id": "37c1c91e",
   "metadata": {},
   "outputs": [],
   "source": [
    "def gaussian(x,x0):\n",
    "    return np.exp(-(x-x0)**2)"
   ]
  },
  {
   "cell_type": "code",
   "execution_count": 31,
   "id": "b42fad0f",
   "metadata": {},
   "outputs": [
    {
     "data": {
      "image/png": "[encoded data removed]",
      "text/plain": [
       "<Figure size 640x480 with 1 Axes>"
      ]
     },
     "metadata": {},
     "output_type": "display_data"
    },
    {
     "data": {
      "image/png": "[encoded data removed]",
      "text/plain": [
       "<Figure size 640x480 with 1 Axes>"
      ]
     },
     "metadata": {},
     "output_type": "display_data"
    },
    {
     "data": {
      "image/png": "[encoded data removed]",
      "text/plain": [
       "<Figure size 640x480 with 1 Axes>"
      ]
     },
     "metadata": {},
     "output_type": "display_data"
    },
    {
     "data": {
      "image/png": "[encoded data removed]",
      "text/plain": [
       "<Figure size 640x480 with 1 Axes>"
      ]
     },
     "metadata": {},
     "output_type": "display_data"
    }
   ],
   "source": [
    "x_min = -10\n",
    "x_max = 10\n",
    "x_grids = 501\n",
    "x=np.linspace(x_min,x_max,x_grids)\n",
    "\n",
    "\n",
    "#plot 1\n",
    "x0=0\n",
    "y=gaussian(x,x0)\n",
    "plt.plot(x,y)\n",
    "plt.savefig('_tmp_1.png')\n",
    "plt.show()\n",
    "\n",
    "#plot 2\n",
    "x0=1\n",
    "y=gaussian(x,x0)\n",
    "plt.plot(x,y)\n",
    "plt.savefig('_tmp_2.png')\n",
    "plt.show()\n",
    "\n",
    "#plot 3\n",
    "x0=2\n",
    "y=gaussian(x,x0)\n",
    "plt.plot(x,y)\n",
    "plt.savefig('_tmp_3.png')\n",
    "plt.show()\n",
    "\n",
    "#plot 4\n",
    "x0=3\n",
    "y=gaussian(x,x0)\n",
    "plt.plot(x,y)\n",
    "plt.savefig('_tmp_4.png')\n",
    "plt.show()"
   ]
  },
  {
   "cell_type": "code",
   "execution_count": 32,
   "id": "9d970ebb",
   "metadata": {},
   "outputs": [],
   "source": [
    "#building GIF\n",
    "\n",
    "with imageio.get_writer('mygif1.gif',mode='I') as writer:\n",
    "    for filename in ['_tmp_1.png', '_tmp_2.png', '_tmp_3.png', '_tmp_4.png']:\n",
    "        image = imageio.imread(filename)\n",
    "        writer.append_data(image)\n",
    "\n",
    "        "
   ]
  },
  {
   "cell_type": "code",
   "execution_count": 33,
   "id": "fd7a354e",
   "metadata": {},
   "outputs": [
    {
     "data": {
      "text/plain": [
       "Array([[[255, 255, 255, 255],\n",
       "        [255, 255, 255, 255],\n",
       "        [255, 255, 255, 255],\n",
       "        ...,\n",
       "        [255, 255, 255, 255],\n",
       "        [255, 255, 255, 255],\n",
       "        [255, 255, 255, 255]],\n",
       "\n",
       "       [[255, 255, 255, 255],\n",
       "        [255, 255, 255, 255],\n",
       "        [255, 255, 255, 255],\n",
       "        ...,\n",
       "        [255, 255, 255, 255],\n",
       "        [255, 255, 255, 255],\n",
       "        [255, 255, 255, 255]],\n",
       "\n",
       "       [[255, 255, 255, 255],\n",
       "        [255, 255, 255, 255],\n",
       "        [255, 255, 255, 255],\n",
       "        ...,\n",
       "        [255, 255, 255, 255],\n",
       "        [255, 255, 255, 255],\n",
       "        [255, 255, 255, 255]],\n",
       "\n",
       "       ...,\n",
       "\n",
       "       [[255, 255, 255, 255],\n",
       "        [255, 255, 255, 255],\n",
       "        [255, 255, 255, 255],\n",
       "        ...,\n",
       "        [255, 255, 255, 255],\n",
       "        [255, 255, 255, 255],\n",
       "        [255, 255, 255, 255]],\n",
       "\n",
       "       [[255, 255, 255, 255],\n",
       "        [255, 255, 255, 255],\n",
       "        [255, 255, 255, 255],\n",
       "        ...,\n",
       "        [255, 255, 255, 255],\n",
       "        [255, 255, 255, 255],\n",
       "        [255, 255, 255, 255]],\n",
       "\n",
       "       [[255, 255, 255, 255],\n",
       "        [255, 255, 255, 255],\n",
       "        [255, 255, 255, 255],\n",
       "        ...,\n",
       "        [255, 255, 255, 255],\n",
       "        [255, 255, 255, 255],\n",
       "        [255, 255, 255, 255]]], dtype=uint8)"
      ]
     },
     "execution_count": 33,
     "metadata": {},
     "output_type": "execute_result"
    }
   ],
   "source": [
    "imageio.imread(\"mygif1.gif\")"
   ]
  },
  {
   "cell_type": "code",
   "execution_count": 85,
   "id": "63e577f3",
   "metadata": {},
   "outputs": [],
   "source": [
    "def newf(x):\n",
    "    return (x-1.5)**2\n"
   ]
  },
  {
   "cell_type": "code",
   "execution_count": 86,
   "id": "a8c96f5f",
   "metadata": {},
   "outputs": [
    {
     "name": "stdout",
     "output_type": "stream",
     "text": [
      "5\n",
      "1.5001500141144524\n",
      "warning...aborting!!!\n"
     ]
    }
   ],
   "source": [
    "x0=5\n",
    "x=x0  #newton raphson is failing when x=2,2.\n",
    "while(1):\n",
    "    print(x)\n",
    "    if diff(x,newf)<threshold:\n",
    "        print('warning...aborting!!!')\n",
    "        break\n",
    "    elif abs(newf(x))<threshold:\n",
    "        xsol=x\n",
    "        break\n",
    "    x = x - (newf(x)*diff(x,newf))/(diff(x,newf)**2 - newf(x)*((diff(x+0.001,newf)-diff(x,newf))/0.001))"
   ]
  },
  {
   "cell_type": "markdown",
   "id": "c5e6d702",
   "metadata": {},
   "source": [
    "Execise 6 below"
   ]
  },
  {
   "cell_type": "code",
   "execution_count": 36,
   "id": "fa761b2c",
   "metadata": {},
   "outputs": [],
   "source": [
    "def g2(x):\n",
    "    return x**2 + 1"
   ]
  },
  {
   "cell_type": "code",
   "execution_count": 37,
   "id": "84e423d6",
   "metadata": {},
   "outputs": [],
   "source": [
    "x0=1.5\n",
    "N_iter=8\n",
    "n=0\n",
    "X=[]\n",
    "Y=[]\n",
    "while(n<N_iter):\n",
    "    if n==0:\n",
    "        xold = x0\n",
    "    xnew = g1(xold)\n",
    "    n=n+1\n",
    "    X.append(xold)\n",
    "    Y.append(xnew)\n",
    "    xold = xnew\n",
    "    "
   ]
  },
  {
   "cell_type": "code",
   "execution_count": 38,
   "id": "e95d3a9f",
   "metadata": {},
   "outputs": [
    {
     "data": {
      "text/plain": [
       "[1.5,\n",
       " 3.884349199257851,\n",
       " 4.897193971719939,\n",
       " 4.962662461312577,\n",
       " 4.965028594911151,\n",
       " 4.965111244109638,\n",
       " 4.965114127518191,\n",
       " 4.965114228108269]"
      ]
     },
     "execution_count": 38,
     "metadata": {},
     "output_type": "execute_result"
    }
   ],
   "source": [
    "X"
   ]
  },
  {
   "cell_type": "code",
   "execution_count": 39,
   "id": "4d0f6a58",
   "metadata": {},
   "outputs": [
    {
     "data": {
      "text/plain": [
       "[3.884349199257851,\n",
       " 4.897193971719939,\n",
       " 4.962662461312577,\n",
       " 4.965028594911151,\n",
       " 4.965111244109638,\n",
       " 4.965114127518191,\n",
       " 4.965114228108269,\n",
       " 4.965114231617431]"
      ]
     },
     "execution_count": 39,
     "metadata": {},
     "output_type": "execute_result"
    }
   ],
   "source": [
    "Y"
   ]
  },
  {
   "cell_type": "code",
   "execution_count": 40,
   "id": "2a1e66de",
   "metadata": {},
   "outputs": [],
   "source": [
    "import matplotlib.pyplot as plt"
   ]
  },
  {
   "cell_type": "code",
   "execution_count": 77,
   "id": "7a972bdc",
   "metadata": {},
   "outputs": [],
   "source": [
    "def drawCobWeb(X,Y,title):\n",
    "    x0=X[0]\n",
    "    x1=X[0]\n",
    "    n=0\n",
    "    while(n<N_iter):\n",
    "        if n==0:\n",
    "            plt.plot(x0,0,'*-')\n",
    "       \n",
    "        n=n+1\n",
    "        if n==N_iter:\n",
    "            plt.plot([X[n-2],X[n-1]],[X[n-1],X[n-1]],'o-') \n",
    "            break\n",
    "        plt.plot([X[n-1],X[n-1]],[X[n-1],X[n]],'o-')\n",
    "        plt.plot([X[n-1],X[n]],[X[n],X[n]],'o-')\n",
    "    plt.title(title)    \n",
    "    plt.show()\n",
    "        "
   ]
  },
  {
   "cell_type": "code",
   "execution_count": 78,
   "id": "44eba5eb",
   "metadata": {},
   "outputs": [
    {
     "data": {
      "image/png": "[encoded data removed]",
      "text/plain": [
       "<Figure size 640x480 with 1 Axes>"
      ]
     },
     "metadata": {},
     "output_type": "display_data"
    }
   ],
   "source": [
    "drawCobWeb(X,Y,'Cob web for x=5[1-exp(-x)]')\n"
   ]
  },
  {
   "cell_type": "code",
   "execution_count": 69,
   "id": "57491b22",
   "metadata": {},
   "outputs": [],
   "source": [
    "x0=1.5\n",
    "N_iter=4\n",
    "n=0\n",
    "X=[]\n",
    "Y=[]\n",
    "while(n<N_iter):\n",
    "    if n==0:\n",
    "        xold = x0\n",
    "    xnew = g2(xold) #monotonically diverging\n",
    "    n=n+1\n",
    "    X.append(xold)\n",
    "    Y.append(xnew)\n",
    "    xold = xnew\n",
    "    "
   ]
  },
  {
   "cell_type": "code",
   "execution_count": 70,
   "id": "fb565aaa",
   "metadata": {},
   "outputs": [
    {
     "data": {
      "text/plain": [
       "[1.5, 3.25, 11.5625, 134.69140625]"
      ]
     },
     "execution_count": 70,
     "metadata": {},
     "output_type": "execute_result"
    }
   ],
   "source": [
    "X"
   ]
  },
  {
   "cell_type": "code",
   "execution_count": 71,
   "id": "6835cb14",
   "metadata": {},
   "outputs": [
    {
     "data": {
      "text/plain": [
       "[3.25, 11.5625, 134.69140625, 18142.77491760254]"
      ]
     },
     "execution_count": 71,
     "metadata": {},
     "output_type": "execute_result"
    }
   ],
   "source": [
    "Y"
   ]
  },
  {
   "cell_type": "code",
   "execution_count": 46,
   "id": "9a1634bf",
   "metadata": {},
   "outputs": [
    {
     "data": {
      "image/png": "[encoded data removed]",
      "text/plain": [
       "<Figure size 640x480 with 1 Axes>"
      ]
     },
     "metadata": {},
     "output_type": "display_data"
    }
   ],
   "source": [
    "drawCobWeb(X,Y,'CobWeb diagram for x^2+1')"
   ]
  },
  {
   "cell_type": "code",
   "execution_count": 79,
   "id": "7de7d2fb",
   "metadata": {},
   "outputs": [],
   "source": [
    "def g3(x):\n",
    "    return x**3 - 2*x +1"
   ]
  },
  {
   "cell_type": "code",
   "execution_count": 80,
   "id": "5af096da",
   "metadata": {},
   "outputs": [],
   "source": [
    "x0=1.5\n",
    "N_iter=10\n",
    "n=0\n",
    "X=[]\n",
    "Y=[]\n",
    "while(n<N_iter):\n",
    "    if n==0:\n",
    "        xold = x0\n",
    "    xnew = g3(xold) #monotonically diverging\n",
    "    n=n+1\n",
    "    X.append(xold)\n",
    "    Y.append(xnew)\n",
    "    xold = xnew\n",
    "    "
   ]
  },
  {
   "cell_type": "code",
   "execution_count": 81,
   "id": "704b3e64",
   "metadata": {},
   "outputs": [
    {
     "data": {
      "text/plain": [
       "[1.5,\n",
       " 1.375,\n",
       " 0.849609375,\n",
       " -0.08594004064798355,\n",
       " 1.1712453547467432,\n",
       " 0.2642420344650378,\n",
       " 0.48996632798222917,\n",
       " 0.13769209174779617,\n",
       " 0.7272263363112523,\n",
       " -0.0698531019696178]"
      ]
     },
     "execution_count": 81,
     "metadata": {},
     "output_type": "execute_result"
    }
   ],
   "source": [
    "X"
   ]
  },
  {
   "cell_type": "code",
   "execution_count": 82,
   "id": "0687eb22",
   "metadata": {},
   "outputs": [
    {
     "data": {
      "image/png": "[encoded data removed]",
      "text/plain": [
       "<Figure size 640x480 with 1 Axes>"
      ]
     },
     "metadata": {},
     "output_type": "display_data"
    }
   ],
   "source": [
    "drawCobWeb(X,Y,'CobWeb for x^3 - 2x+1')"
   ]
  },
  {
   "cell_type": "code",
   "execution_count": 51,
   "id": "672bdd4c",
   "metadata": {},
   "outputs": [],
   "source": [
    "def g4(x):\n",
    "    return np.cos(x)"
   ]
  },
  {
   "cell_type": "code",
   "execution_count": 55,
   "id": "40b13281",
   "metadata": {},
   "outputs": [],
   "source": [
    "x0=1.5\n",
    "N_iter=15\n",
    "n=0\n",
    "X=[]\n",
    "Y=[]\n",
    "while(n<N_iter):\n",
    "    if n==0:\n",
    "        xold = x0\n",
    "    xnew = g4(xold) #monotonically diverging\n",
    "    n=n+1\n",
    "    X.append(xold)\n",
    "    Y.append(xnew)\n",
    "    xold = xnew\n",
    "    "
   ]
  },
  {
   "cell_type": "code",
   "execution_count": 56,
   "id": "9d794341",
   "metadata": {},
   "outputs": [
    {
     "data": {
      "image/png": "[encoded data removed]",
      "text/plain": [
       "<Figure size 640x480 with 1 Axes>"
      ]
     },
     "metadata": {},
     "output_type": "display_data"
    }
   ],
   "source": [
    "drawCobWeb(X,Y,'')"
   ]
  },
  {
   "cell_type": "code",
   "execution_count": 57,
   "id": "6f0be7ef",
   "metadata": {},
   "outputs": [
    {
     "data": {
      "text/plain": [
       "[1.5,\n",
       " 0.0707372016677029,\n",
       " 0.997499167206586,\n",
       " 0.5424049923392199,\n",
       " 0.856469708947328,\n",
       " 0.6551088017807836,\n",
       " 0.792981645797353,\n",
       " 0.7017241682765735,\n",
       " 0.7637303112908589,\n",
       " 0.7222610821345202,\n",
       " 0.7503128857099854,\n",
       " 0.7314755580346739,\n",
       " 0.7441895866305825,\n",
       " 0.7356370983487155,\n",
       " 0.7414033729092688]"
      ]
     },
     "execution_count": 57,
     "metadata": {},
     "output_type": "execute_result"
    }
   ],
   "source": [
    "X"
   ]
  },
  {
   "cell_type": "code",
   "execution_count": null,
   "id": "6febdc80",
   "metadata": {},
   "outputs": [],
   "source": []
  }
 ],
 "metadata": {
  "kernelspec": {
   "display_name": "Python 3 (ipykernel)",
   "language": "python",
   "name": "python3"
  },
  "language_info": {
   "codemirror_mode": {
    "name": "ipython",
    "version": 3
   },
   "file_extension": ".py",
   "mimetype": "text/x-python",
   "name": "python",
   "nbconvert_exporter": "python",
   "pygments_lexer": "ipython3",
   "version": "3.11.5"
  }
 },
 "nbformat": 4,
 "nbformat_minor": 5
}
