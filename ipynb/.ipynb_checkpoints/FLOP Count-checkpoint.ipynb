{
 "cells": [
  {
   "cell_type": "code",
   "execution_count": 88,
   "id": "5cdf2f01",
   "metadata": {},
   "outputs": [],
   "source": [
    "import numpy as np\n",
    "from scipy.optimize import curve_fit"
   ]
  },
  {
   "cell_type": "code",
   "execution_count": null,
   "id": "79aee2d8",
   "metadata": {},
   "outputs": [],
   "source": []
  },
  {
   "cell_type": "code",
   "execution_count": 89,
   "id": "c8fd5144",
   "metadata": {},
   "outputs": [],
   "source": [
    "def vector_dot(X,Y):\n",
    "    FLOP_count = 0\n",
    "    result=0\n",
    "    size=len(X)\n",
    "    if abs(size-len(Y))<0.1:\n",
    "        #multiplication is possible\n",
    "        for i in range(size):\n",
    "            result = X[i]*Y[i] + result\n",
    "            FLOP_count = FLOP_count+2\n",
    "    else:\n",
    "        print('multiplication not possible')\n",
    "        return\n",
    "    return (result,{'size':size,'FLOP_count':FLOP_count})"
   ]
  },
  {
   "cell_type": "code",
   "execution_count": 90,
   "id": "fcd3c1bd",
   "metadata": {},
   "outputs": [],
   "source": [
    "X =np.array([1,2,3,4])\n",
    "Y=np.array([5,6,7,8])"
   ]
  },
  {
   "cell_type": "code",
   "execution_count": 91,
   "id": "60e006e0",
   "metadata": {},
   "outputs": [
    {
     "data": {
      "text/plain": [
       "5"
      ]
     },
     "execution_count": 91,
     "metadata": {},
     "output_type": "execute_result"
    }
   ],
   "source": [
    "Y[0]"
   ]
  },
  {
   "cell_type": "code",
   "execution_count": 92,
   "id": "37dea769",
   "metadata": {},
   "outputs": [
    {
     "data": {
      "text/plain": [
       "8"
      ]
     },
     "execution_count": 92,
     "metadata": {},
     "output_type": "execute_result"
    }
   ],
   "source": [
    "vector_dot(X,Y)[1][\"FLOP_count\"]"
   ]
  },
  {
   "cell_type": "code",
   "execution_count": 93,
   "id": "727ebc09",
   "metadata": {},
   "outputs": [],
   "source": [
    "def SAXPY(a,X,Y):\n",
    "    sizeX=len(X)\n",
    "    sizeY=len(Y)\n",
    "    FLOP_count=0\n",
    "    if abs(sizeX-sizeY)<0.1:\n",
    "        #addition is possible\n",
    "        for i in range(sizeX):\n",
    "            Y[i]=Y[i]+a*X[i]\n",
    "            FLOP_count = FLOP_count+2\n",
    "    else:\n",
    "        print('operation not possible')\n",
    "        return\n",
    "    return (Y,{'size':sizeX,'FLOP_count':FLOP_count})\n"
   ]
  },
  {
   "cell_type": "code",
   "execution_count": 94,
   "id": "53597bd9",
   "metadata": {},
   "outputs": [
    {
     "data": {
      "text/plain": [
       "70"
      ]
     },
     "execution_count": 94,
     "metadata": {},
     "output_type": "execute_result"
    }
   ],
   "source": [
    "vector_dot(X,Y)[0]"
   ]
  },
  {
   "cell_type": "code",
   "execution_count": 95,
   "id": "c3c34f95",
   "metadata": {},
   "outputs": [],
   "source": [
    "A=np.identity(4)\n",
    "A[1][0]=3"
   ]
  },
  {
   "cell_type": "code",
   "execution_count": 96,
   "id": "d3d17f5c",
   "metadata": {},
   "outputs": [
    {
     "data": {
      "text/plain": [
       "array([[1., 0., 0., 0.],\n",
       "       [3., 1., 0., 0.],\n",
       "       [0., 0., 1., 0.],\n",
       "       [0., 0., 0., 1.]])"
      ]
     },
     "execution_count": 96,
     "metadata": {},
     "output_type": "execute_result"
    }
   ],
   "source": [
    "A[0]\n",
    "A"
   ]
  },
  {
   "cell_type": "code",
   "execution_count": 97,
   "id": "e73f0342",
   "metadata": {},
   "outputs": [],
   "source": [
    "def GAXPY(A,X,Y):\n",
    "    #A is a matrix\n",
    "    \"\"\"\n",
    "    Multiplies A with X and adds it to Y\n",
    "\n",
    "    Args:\n",
    "        first_row (array_like): 1-D array representing the first row (or column).\n",
    "\n",
    "    Returns:\n",
    "        ndarray: returns a matrix for the operation Y=Y+AX and FLOP count\n",
    "    \"\"\"\n",
    "    sizeX=len(X)\n",
    "    sizeY=len(Y)\n",
    "    shapeA=A.shape\n",
    "    Flop_count=0\n",
    "    if (shapeA[0]-sizeX)<0.1:\n",
    "        #multiplication is possible\n",
    "        mul_array=np.zeros(sizeX)\n",
    "        for i in range(sizeX):\n",
    "            result = vector_dot(A[i],X)\n",
    "            mul_array[i]=result[0]\n",
    "            Flop_count = Flop_count + result[1]['FLOP_count']\n",
    "            \n",
    "        for i in range(sizeX):\n",
    "            Y[i]=Y[i] + mul_array[i]\n",
    "            Flop_count = Flop_count + 1\n",
    "    else:\n",
    "        print('Operation not possible. Size difference')\n",
    "        return\n",
    "    return (Y,{'FLOP_COUNT':Flop_count})\n",
    "            \n",
    "        \n",
    "        \n",
    "    "
   ]
  },
  {
   "cell_type": "code",
   "execution_count": 98,
   "id": "45993548",
   "metadata": {},
   "outputs": [
    {
     "data": {
      "text/plain": [
       "(array([ 6, 11, 10, 12]), {'FLOP_COUNT': 36})"
      ]
     },
     "execution_count": 98,
     "metadata": {},
     "output_type": "execute_result"
    }
   ],
   "source": [
    "GAXPY(A,X,Y) #2X4X4 + 4"
   ]
  },
  {
   "cell_type": "code",
   "execution_count": 99,
   "id": "9d337b8e",
   "metadata": {},
   "outputs": [],
   "source": [
    "mul_array=np.array(4)"
   ]
  },
  {
   "cell_type": "code",
   "execution_count": null,
   "id": "0312d0e1",
   "metadata": {},
   "outputs": [],
   "source": []
  },
  {
   "cell_type": "code",
   "execution_count": 100,
   "id": "e88d7ee4",
   "metadata": {},
   "outputs": [],
   "source": [
    "def mod_GAXPY(A,X,Y):\n",
    "    shapeX=X.shape\n",
    "    shapeY=Y.shape\n",
    "    shapeA=A.shape\n",
    "    Flop_count=0\n",
    "    \n",
    "    if (shapeX==shapeY)and(shapeA==(shapeX[0],shapeY[0])):\n",
    "        # shapes are correct, multiplication, addition is possible\n",
    "        result = np.zeros((shapeX[0],shapeY[0]))\n",
    "        for i in range(shapeX[0]):\n",
    "            for j in range(shapeY[0]):\n",
    "                result[i][j] = X[i]*Y[j]\n",
    "                Flop_count = Flop_count + 1\n",
    "        \n",
    "        #adding result mat with A\n",
    "        for i in range(shapeX[0]):\n",
    "            for j in range(shapeY[0]):\n",
    "                result[i][j] = result[i][j] + A[i][j]\n",
    "                Flop_count = Flop_count + 1\n",
    "        \n",
    "    else:\n",
    "        print(\"Matrix shapes and sizes are not compatible\")\n",
    "        return\n",
    "    \n",
    "    return (result,{\"FLOP_COUNT\":Flop_count}) #returns A+X(Y.T)\n",
    "    "
   ]
  },
  {
   "cell_type": "code",
   "execution_count": 101,
   "id": "2afc831b",
   "metadata": {},
   "outputs": [],
   "source": [
    "def mat_addition(X,Y):\n",
    "    if X.shape==Y.shape:\n",
    "        result=np.zeros(X.shape)\n",
    "        flop_count=0\n",
    "        #addition is possible\n",
    "        for i in range(X.shape[0]):\n",
    "            for j in range(Y.shape[1]):\n",
    "                result[i][j] = X[i][j]+Y[i][j]\n",
    "                flop_count+=1\n",
    "    else:\n",
    "        print(\"shape different\")\n",
    "        return\n",
    "    return (result,flop_count)"
   ]
  },
  {
   "cell_type": "code",
   "execution_count": 102,
   "id": "9b595f7e",
   "metadata": {},
   "outputs": [],
   "source": [
    "def mod_GAXPY2(A,B,C):\n",
    "    #returns A+BC\n",
    "    shapeA=A.shape\n",
    "    shapeB=B.shape\n",
    "    shapeC=C.shape\n",
    "    Flop_count=0\n",
    "    \n",
    "    if(shapeB[1]==shapeC[0]) and (shapeA==(shapeB[0],shapeC[1])):\n",
    "        #operation is possible, all good with shapes\n",
    "        result=np.zeros(shapeA)\n",
    "        for i in range(shapeA[0]):\n",
    "            for j in range(shapeA[1]):\n",
    "                dot=vector_dot(B[i],C.T[j])\n",
    "                result[i][j] = dot[0]\n",
    "                Flop_count=Flop_count+dot[1]['FLOP_count']\n",
    "        \n",
    "        BC=(result,Flop_count)\n",
    "        \n",
    "        for i in range(shapeA[0]):\n",
    "            for j in range(shapeA[1]):\n",
    "                result[i][j]=result[i][j] + A[i][j]\n",
    "    else:\n",
    "        print(\"Matrix shapes and sizes are not compatible\")\n",
    "        return \n",
    "    return (BC,result,{'FLOP_count':Flop_count})"
   ]
  },
  {
   "cell_type": "code",
   "execution_count": 103,
   "id": "fe43dd34",
   "metadata": {},
   "outputs": [],
   "source": [
    "def mod_GAXPY3(A,B,C,D):\n",
    "    #returns A+BCD\n",
    "    shapeA=A.shape\n",
    "    shapeB=B.shape\n",
    "    shapeC=C.shape\n",
    "    shapeD=D.shape\n",
    "    Flop_count=0\n",
    "    \n",
    "    #multiplying B and C\n",
    "    BC=mod_GAXPY2(np.zeros((shapeB[0],shapeC[1])),B,C)[0]\n",
    "    BC_mat=BC[0]\n",
    "    flopBC=BC[1]\n",
    "    \n",
    "    Flop_count=Flop_count+flopBC\n",
    "    \n",
    "    #multplying BC and D\n",
    "    BCD=mod_GAXPY2(np.zeros((shapeB[0],shapeD[1])),BC_mat,D)[0]\n",
    "    BCD_mat=BCD[0]\n",
    "    flopBCD=BCD[1]\n",
    "    \n",
    "    Flop_count = Flop_count + flopBCD\n",
    "    \n",
    "    \n",
    "    if shapeA==BCD_mat.shape:\n",
    "        #addition is possible\n",
    "        for i in range(shapeA[0]):\n",
    "            for j in range(shapeA[1]):\n",
    "                BCD_mat[i][j] = BCD_mat[i][j]+A[i][j]\n",
    "                Flop_count = Flop_count+1\n",
    "    else:\n",
    "        print('shapes are incompatible')\n",
    "        return \n",
    "    return (BCD_mat,{\"FLOP_count\":Flop_count}) #returns A+BCD"
   ]
  },
  {
   "cell_type": "code",
   "execution_count": 104,
   "id": "29a41726",
   "metadata": {},
   "outputs": [],
   "source": [
    "#X=(X.T)Y\n",
    "#Y=Y+aX\n",
    "#Y=Y+AX\n",
    "#A=A+X(Y.T)\n",
    "#A=A+BC\n",
    "#A=A+BCD\n"
   ]
  },
  {
   "cell_type": "code",
   "execution_count": 105,
   "id": "262614bf",
   "metadata": {},
   "outputs": [
    {
     "data": {
      "text/plain": [
       "True"
      ]
     },
     "execution_count": 105,
     "metadata": {},
     "output_type": "execute_result"
    }
   ],
   "source": [
    "X.shape==Y.shape"
   ]
  },
  {
   "cell_type": "code",
   "execution_count": 106,
   "id": "2a9829c9",
   "metadata": {},
   "outputs": [
    {
     "data": {
      "text/plain": [
       "0.0"
      ]
     },
     "execution_count": 106,
     "metadata": {},
     "output_type": "execute_result"
    }
   ],
   "source": [
    "np.zeros((X.shape[0],Y.shape[0]))[0][0]"
   ]
  },
  {
   "cell_type": "code",
   "execution_count": 107,
   "id": "2c01af4d",
   "metadata": {},
   "outputs": [
    {
     "data": {
      "text/plain": [
       "False"
      ]
     },
     "execution_count": 107,
     "metadata": {},
     "output_type": "execute_result"
    }
   ],
   "source": [
    "True and False"
   ]
  },
  {
   "cell_type": "code",
   "execution_count": 108,
   "id": "b9798957",
   "metadata": {},
   "outputs": [
    {
     "data": {
      "text/plain": [
       "(array([[ 7., 11., 10., 12.],\n",
       "        [15., 23., 20., 24.],\n",
       "        [18., 33., 31., 36.],\n",
       "        [24., 44., 40., 49.]]),\n",
       " {'FLOP_COUNT': 32})"
      ]
     },
     "execution_count": 108,
     "metadata": {},
     "output_type": "execute_result"
    }
   ],
   "source": [
    "mod_GAXPY(A,X,Y)"
   ]
  },
  {
   "cell_type": "code",
   "execution_count": 109,
   "id": "ba0e5c6e",
   "metadata": {},
   "outputs": [
    {
     "data": {
      "text/plain": [
       "False"
      ]
     },
     "execution_count": 109,
     "metadata": {},
     "output_type": "execute_result"
    }
   ],
   "source": [
    "(X.shape==Y.shape)and(A.shape==(X.shape,Y.shape))"
   ]
  },
  {
   "cell_type": "code",
   "execution_count": 110,
   "id": "e4bb8d3c",
   "metadata": {},
   "outputs": [
    {
     "data": {
      "text/plain": [
       "(4, 4)"
      ]
     },
     "execution_count": 110,
     "metadata": {},
     "output_type": "execute_result"
    }
   ],
   "source": [
    "A.shape"
   ]
  },
  {
   "cell_type": "code",
   "execution_count": 111,
   "id": "367131b2",
   "metadata": {},
   "outputs": [
    {
     "data": {
      "text/plain": [
       "array([1, 2, 3, 4])"
      ]
     },
     "execution_count": 111,
     "metadata": {},
     "output_type": "execute_result"
    }
   ],
   "source": [
    "X"
   ]
  },
  {
   "cell_type": "code",
   "execution_count": 112,
   "id": "ceb96328",
   "metadata": {},
   "outputs": [
    {
     "data": {
      "text/plain": [
       "array([ 6, 11, 10, 12])"
      ]
     },
     "execution_count": 112,
     "metadata": {},
     "output_type": "execute_result"
    }
   ],
   "source": [
    "Y"
   ]
  },
  {
   "cell_type": "code",
   "execution_count": 113,
   "id": "998bfe61",
   "metadata": {},
   "outputs": [
    {
     "data": {
      "text/plain": [
       "((array([[2., 0., 0., 0.],\n",
       "         [9., 2., 0., 0.],\n",
       "         [0., 0., 2., 0.],\n",
       "         [0., 0., 0., 2.]]),\n",
       "  128),\n",
       " array([[2., 0., 0., 0.],\n",
       "        [9., 2., 0., 0.],\n",
       "        [0., 0., 2., 0.],\n",
       "        [0., 0., 0., 2.]]),\n",
       " {'FLOP_count': 128})"
      ]
     },
     "execution_count": 113,
     "metadata": {},
     "output_type": "execute_result"
    }
   ],
   "source": [
    "mod_GAXPY2(A,A,A)"
   ]
  },
  {
   "cell_type": "code",
   "execution_count": 114,
   "id": "de4b65f8",
   "metadata": {},
   "outputs": [
    {
     "ename": "ValueError",
     "evalue": "too many values to unpack (expected 2)",
     "output_type": "error",
     "traceback": [
      "\u001b[1;31m---------------------------------------------------------------------------\u001b[0m",
      "\u001b[1;31mValueError\u001b[0m                                Traceback (most recent call last)",
      "Cell \u001b[1;32mIn[114], line 1\u001b[0m\n\u001b[1;32m----> 1\u001b[0m (r,f)\u001b[38;5;241m=\u001b[39mmod_GAXPY2(A,A,A)\n",
      "\u001b[1;31mValueError\u001b[0m: too many values to unpack (expected 2)"
     ]
    }
   ],
   "source": [
    "(r,f)=mod_GAXPY2(A,A,A)"
   ]
  },
  {
   "cell_type": "code",
   "execution_count": 115,
   "id": "c567327e",
   "metadata": {},
   "outputs": [
    {
     "data": {
      "text/plain": [
       "(array([[ 2.,  0.,  0.,  0.],\n",
       "        [12.,  2.,  0.,  0.],\n",
       "        [ 0.,  0.,  2.,  0.],\n",
       "        [ 0.,  0.,  0.,  2.]]),\n",
       " {'FLOP_count': 272})"
      ]
     },
     "execution_count": 115,
     "metadata": {},
     "output_type": "execute_result"
    }
   ],
   "source": [
    "mod_GAXPY3(A,A,A,A)"
   ]
  },
  {
   "cell_type": "code",
   "execution_count": 117,
   "id": "231a1c6c",
   "metadata": {},
   "outputs": [
    {
     "data": {
      "text/plain": [
       "array([[1., 0., 0., 0.],\n",
       "       [3., 1., 0., 0.],\n",
       "       [0., 0., 1., 0.],\n",
       "       [0., 0., 0., 1.]])"
      ]
     },
     "execution_count": 117,
     "metadata": {},
     "output_type": "execute_result"
    }
   ],
   "source": [
    "A"
   ]
  },
  {
   "cell_type": "code",
   "execution_count": 125,
   "id": "5c07ac32",
   "metadata": {},
   "outputs": [],
   "source": [
    "B=np.zeros((4,5))\n",
    "C=np.zeros((5,6))\n",
    "D=np.zeros((6,7))\n",
    "A=np.zeros((4,7))"
   ]
  },
  {
   "cell_type": "code",
   "execution_count": 122,
   "id": "6c67dbbc",
   "metadata": {},
   "outputs": [],
   "source": [
    "A=np.zeros((4,4))"
   ]
  },
  {
   "cell_type": "code",
   "execution_count": 126,
   "id": "998162a8",
   "metadata": {},
   "outputs": [
    {
     "data": {
      "text/plain": [
       "(array([[0., 0., 0., 0., 0., 0., 0.],\n",
       "        [0., 0., 0., 0., 0., 0., 0.],\n",
       "        [0., 0., 0., 0., 0., 0., 0.],\n",
       "        [0., 0., 0., 0., 0., 0., 0.]]),\n",
       " {'FLOP_count': 604})"
      ]
     },
     "execution_count": 126,
     "metadata": {},
     "output_type": "execute_result"
    }
   ],
   "source": [
    "mod_GAXPY3(A,B,C,D)"
   ]
  },
  {
   "cell_type": "code",
   "execution_count": null,
   "id": "cc9db333",
   "metadata": {},
   "outputs": [],
   "source": []
  }
 ],
 "metadata": {
  "kernelspec": {
   "display_name": "Python 3 (ipykernel)",
   "language": "python",
   "name": "python3"
  },
  "language_info": {
   "codemirror_mode": {
    "name": "ipython",
    "version": 3
   },
   "file_extension": ".py",
   "mimetype": "text/x-python",
   "name": "python",
   "nbconvert_exporter": "python",
   "pygments_lexer": "ipython3",
   "version": "3.11.5"
  }
 },
 "nbformat": 4,
 "nbformat_minor": 5
}
