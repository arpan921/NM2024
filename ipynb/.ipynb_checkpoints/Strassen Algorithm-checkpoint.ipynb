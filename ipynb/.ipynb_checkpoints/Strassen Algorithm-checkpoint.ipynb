{
 "cells": [
  {
   "cell_type": "code",
   "execution_count": 4,
   "id": "adfff15c",
   "metadata": {},
   "outputs": [],
   "source": [
    "import numpy as np"
   ]
  },
  {
   "cell_type": "code",
   "execution_count": 23,
   "id": "1c32030f",
   "metadata": {},
   "outputs": [],
   "source": [
    "def mat_addition(X,Y):\n",
    "    if X.shape==Y.shape:\n",
    "        result=np.zeros(X.shape)\n",
    "        flop_count=0\n",
    "        #addition is possible\n",
    "        for i in range(X.shape[0]):\n",
    "            for j in range(Y.shape[1]):\n",
    "                result[i][j] = X[i][j]+Y[i][j]\n",
    "                flop_count+=1\n",
    "    else:\n",
    "        print(\"shape different\")\n",
    "        return\n",
    "    return (result,flop_count)"
   ]
  },
  {
   "cell_type": "code",
   "execution_count": 42,
   "id": "d3979b4f",
   "metadata": {},
   "outputs": [],
   "source": [
    "def strassen_algo(A,B):\n",
    "    if A.shape==B.shape:\n",
    "        # algo is applicable\n",
    "        C=np.zeros(A.shape)\n",
    "        if A.shape[0]==2:\n",
    "            C[0][0] = A[0][0]*B[0][0] + A[0][1]*B[1][0]\n",
    "            C[0][1] = A[0][0]*B[0][1] + A[0][1]*B[1][1]\n",
    "            C[1][0] = A[1][0]*B[0][0] + A[1][1]*B[1][0]\n",
    "            C[1][1] = A[1][0]*B[0][1] + A[1][1]*B[1][1]\n",
    "            return C\n",
    "        \n",
    "        elif A.shape[0]>2:\n",
    "            N = A.shape[0]\n",
    "            C00 = mat_addition(strassen_algo(A[0:int(N/2):1,0:int(N/2):1],B[0:int(N/2):1,0:int(N/2):1]),strassen_algo(A[0:int(N/2):1,int(N/2):N:1],B[int(N/2):N:1,0:int(N/2):1]))[0]\n",
    "            C01 = mat_addition(strassen_algo(A[0:int(N/2):1,0:int(N/2):1],B[0:int(N/2):1,int(N/2):N:1]),strassen_algo(A[0:int(N/2):1,int(N/2):N:1],B[int(N/2):N:1,int(N/2):N:1]))[0]\n",
    "            C10 = mat_addition(strassen_algo(A[int(N/2):N:1,0:int(N/2):1],B[0:int(N/2):1,0:int(N/2):1]),strassen_algo(A[int(N/2):N:1,int(N/2):N:1],B[int(N/2):N:1,0:int(N/2):1]))[0]\n",
    "            C11 = mat_addition(strassen_algo(A[int(N/2):N:1,0:int(N/2):1],B[0:int(N/2):1,int(N/2):N:1]),strassen_algo(A[int(N/2):N:1,int(N/2):N:1],B[int(N/2):N:1,int(N/2):N:1]))[0]\n",
    "            return np.bmat([[C00, C01],[C10, C11]])\n",
    "    else:\n",
    "        print(\"Algo is not possible to apply\")\n",
    "        return\n",
    "    "
   ]
  },
  {
   "cell_type": "code",
   "execution_count": 25,
   "id": "f30b05f3",
   "metadata": {},
   "outputs": [],
   "source": [
    "A=np.identity(4)"
   ]
  },
  {
   "cell_type": "code",
   "execution_count": 26,
   "id": "4250d05a",
   "metadata": {},
   "outputs": [
    {
     "data": {
      "text/plain": [
       "array([[1., 0., 0., 0.],\n",
       "       [0., 1., 0., 0.],\n",
       "       [0., 0., 1., 0.],\n",
       "       [0., 0., 0., 1.]])"
      ]
     },
     "execution_count": 26,
     "metadata": {},
     "output_type": "execute_result"
    }
   ],
   "source": [
    "A"
   ]
  },
  {
   "cell_type": "code",
   "execution_count": 40,
   "id": "25438755",
   "metadata": {},
   "outputs": [
    {
     "data": {
      "text/plain": [
       "matrix([[1., 0., 0., 0.],\n",
       "        [0., 1., 0., 0.],\n",
       "        [0., 0., 1., 0.],\n",
       "        [0., 0., 0., 1.]])"
      ]
     },
     "execution_count": 40,
     "metadata": {},
     "output_type": "execute_result"
    }
   ],
   "source": [
    "strassen_algo(A,A)"
   ]
  },
  {
   "cell_type": "code",
   "execution_count": 31,
   "id": "e377aa1e",
   "metadata": {},
   "outputs": [],
   "source": [
    "c00 = np.identity(2)\n",
    "c01 = np.zeros((2,2))\n",
    "c10 = np.zeros((2,2))\n",
    "c11 = np.identity(2)"
   ]
  },
  {
   "cell_type": "code",
   "execution_count": 29,
   "id": "1d751161",
   "metadata": {},
   "outputs": [
    {
     "data": {
      "text/plain": [
       "array([0., 0.])"
      ]
     },
     "execution_count": 29,
     "metadata": {},
     "output_type": "execute_result"
    }
   ],
   "source": [
    "np.zeros(2)"
   ]
  },
  {
   "cell_type": "code",
   "execution_count": 35,
   "id": "2c8c2976",
   "metadata": {},
   "outputs": [
    {
     "data": {
      "text/plain": [
       "array([[1., 0.],\n",
       "       [0., 1.]])"
      ]
     },
     "execution_count": 35,
     "metadata": {},
     "output_type": "execute_result"
    }
   ],
   "source": [
    "D = np.bmat()"
   ]
  },
  {
   "cell_type": "code",
   "execution_count": 37,
   "id": "d9c9cfd4",
   "metadata": {},
   "outputs": [],
   "source": [
    "D = np.bmat([[c00, c01],[c10, c11]])"
   ]
  },
  {
   "cell_type": "code",
   "execution_count": 41,
   "id": "3491cd79",
   "metadata": {},
   "outputs": [
    {
     "data": {
      "text/plain": [
       "(array([[2., 0., 0., 0.],\n",
       "        [0., 2., 0., 0.],\n",
       "        [0., 0., 2., 0.],\n",
       "        [0., 0., 0., 2.]]),\n",
       " 16)"
      ]
     },
     "execution_count": 41,
     "metadata": {},
     "output_type": "execute_result"
    }
   ],
   "source": []
  },
  {
   "cell_type": "code",
   "execution_count": 43,
   "id": "b07365c7",
   "metadata": {},
   "outputs": [
    {
     "ename": "AttributeError",
     "evalue": "'int' object has no attribute 'shape'",
     "output_type": "error",
     "traceback": [
      "\u001b[1;31m---------------------------------------------------------------------------\u001b[0m",
      "\u001b[1;31mAttributeError\u001b[0m                            Traceback (most recent call last)",
      "Cell \u001b[1;32mIn[43], line 1\u001b[0m\n\u001b[1;32m----> 1\u001b[0m strassen_algo(\u001b[38;5;241m1\u001b[39m,\u001b[38;5;241m1\u001b[39m)\n",
      "Cell \u001b[1;32mIn[42], line 2\u001b[0m, in \u001b[0;36mstrassen_algo\u001b[1;34m(A, B)\u001b[0m\n\u001b[0;32m      1\u001b[0m \u001b[38;5;28;01mdef\u001b[39;00m \u001b[38;5;21mstrassen_algo\u001b[39m(A,B):\n\u001b[1;32m----> 2\u001b[0m     \u001b[38;5;28;01mif\u001b[39;00m A\u001b[38;5;241m.\u001b[39mshape\u001b[38;5;241m==\u001b[39mB\u001b[38;5;241m.\u001b[39mshape:\n\u001b[0;32m      3\u001b[0m         \u001b[38;5;66;03m# algo is applicable\u001b[39;00m\n\u001b[0;32m      4\u001b[0m         C\u001b[38;5;241m=\u001b[39mnp\u001b[38;5;241m.\u001b[39mzeros(A\u001b[38;5;241m.\u001b[39mshape)\n\u001b[0;32m      5\u001b[0m         \u001b[38;5;28;01mif\u001b[39;00m A\u001b[38;5;241m.\u001b[39mshape[\u001b[38;5;241m0\u001b[39m]\u001b[38;5;241m==\u001b[39m\u001b[38;5;241m2\u001b[39m:\n",
      "\u001b[1;31mAttributeError\u001b[0m: 'int' object has no attribute 'shape'"
     ]
    }
   ],
   "source": []
  },
  {
   "cell_type": "code",
   "execution_count": null,
   "id": "e8140a53",
   "metadata": {},
   "outputs": [],
   "source": []
  }
 ],
 "metadata": {
  "kernelspec": {
   "display_name": "Python 3 (ipykernel)",
   "language": "python",
   "name": "python3"
  },
  "language_info": {
   "codemirror_mode": {
    "name": "ipython",
    "version": 3
   },
   "file_extension": ".py",
   "mimetype": "text/x-python",
   "name": "python",
   "nbconvert_exporter": "python",
   "pygments_lexer": "ipython3",
   "version": "3.11.5"
  }
 },
 "nbformat": 4,
 "nbformat_minor": 5
}
