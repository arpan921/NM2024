{
 "cells": [
  {
   "cell_type": "code",
   "execution_count": 19,
   "id": "8867f392",
   "metadata": {},
   "outputs": [
    {
     "name": "stdout",
     "output_type": "stream",
     "text": [
      "    N      Smallest eig\n",
      "  ----------------------\n",
      "[[1.]]\n",
      "[[1.         0.97098354]\n",
      " [0.97098354 1.        ]]\n"
     ]
    }
   ],
   "source": [
    "import numpy as np\n",
    "from scipy.integrate import simps\n",
    "\n",
    "def f(x,k):\n",
    "    y=np.exp(-x*x/2**k)\n",
    "    y=y/np.sqrt(simps(y*y,x))\n",
    "    return y\n",
    "\n",
    "\n",
    "print('    N      Smallest eig')\n",
    "print('  ----------------------')\n",
    "\n",
    "N=1\n",
    "\n",
    "while N<3:\n",
    "    S=np.zeros((N,N),dtype='float')\n",
    "    alpha=5\n",
    "    x=np.linspace(-alpha,alpha,200)\n",
    "    \n",
    "    for i in range(N):\n",
    "        t1=f(x,i)\n",
    "        for j in range(i,N):\n",
    "            t2=f(x,j)\n",
    "            S[i,j]=simps(t1*t2,x)\n",
    "            S[j,i]=S[i,j]\n",
    "    \n",
    "    V=np.linalg.eigvals(S)[-1]\n",
    "    output = \"{val1:5d} {val2:15.8f}\"\n",
    "    print(output.format(val1=N, val2=V))\n",
    "    N=N+1"
   ]
  },
  {
   "cell_type": "code",
   "execution_count": null,
   "id": "d1f49280",
   "metadata": {},
   "outputs": [],
   "source": []
  },
  {
   "cell_type": "code",
   "execution_count": null,
   "id": "59e4df68",
   "metadata": {},
   "outputs": [],
   "source": []
  }
 ],
 "metadata": {
  "kernelspec": {
   "display_name": "Python 3 (ipykernel)",
   "language": "python",
   "name": "python3"
  },
  "language_info": {
   "codemirror_mode": {
    "name": "ipython",
    "version": 3
   },
   "file_extension": ".py",
   "mimetype": "text/x-python",
   "name": "python",
   "nbconvert_exporter": "python",
   "pygments_lexer": "ipython3",
   "version": "3.11.5"
  }
 },
 "nbformat": 4,
 "nbformat_minor": 5
}
