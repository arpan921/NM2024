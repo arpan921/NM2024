{
 "cells": [
  {
   "cell_type": "markdown",
   "id": "31752284",
   "metadata": {},
   "source": [
    "Exercise 7"
   ]
  },
  {
   "cell_type": "code",
   "execution_count": 2,
   "id": "5d35f959",
   "metadata": {},
   "outputs": [],
   "source": [
    "import numpy as np\n",
    "from scipy.linalg import toeplitz"
   ]
  },
  {
   "cell_type": "code",
   "execution_count": 3,
   "id": "fa186d5c",
   "metadata": {},
   "outputs": [
    {
     "data": {
      "text/plain": [
       "array([[1, 2, 3],\n",
       "       [2, 1, 2],\n",
       "       [3, 2, 1]])"
      ]
     },
     "execution_count": 3,
     "metadata": {},
     "output_type": "execute_result"
    }
   ],
   "source": [
    "toeplitz([1,2,3])"
   ]
  },
  {
   "cell_type": "code",
   "execution_count": 4,
   "id": "971fb905",
   "metadata": {},
   "outputs": [
    {
     "data": {
      "text/plain": [
       "array([[4, 5, 6],\n",
       "       [5, 4, 5],\n",
       "       [6, 5, 4]])"
      ]
     },
     "execution_count": 4,
     "metadata": {},
     "output_type": "execute_result"
    }
   ],
   "source": [
    "toeplitz([4,5,6])"
   ]
  },
  {
   "cell_type": "code",
   "execution_count": 5,
   "id": "b62aee3f",
   "metadata": {},
   "outputs": [
    {
     "data": {
      "text/plain": [
       "array([[5, 7, 9],\n",
       "       [7, 5, 7],\n",
       "       [9, 7, 5]])"
      ]
     },
     "execution_count": 5,
     "metadata": {},
     "output_type": "execute_result"
    }
   ],
   "source": [
    "toeplitz([1,2,3]) + toeplitz([4,5,6])"
   ]
  },
  {
   "cell_type": "code",
   "execution_count": 6,
   "id": "2070da76",
   "metadata": {},
   "outputs": [
    {
     "data": {
      "text/plain": [
       "array([[32, 28, 28],\n",
       "       [25, 24, 25],\n",
       "       [28, 28, 32]])"
      ]
     },
     "execution_count": 6,
     "metadata": {},
     "output_type": "execute_result"
    }
   ],
   "source": [
    "np.dot(toeplitz([1,2,3]),toeplitz([4,5,6]))"
   ]
  },
  {
   "cell_type": "code",
   "execution_count": 7,
   "id": "37f6ae07",
   "metadata": {},
   "outputs": [
    {
     "data": {
      "text/plain": [
       "array([[32, 28, 28],\n",
       "       [28, 32, 28],\n",
       "       [28, 28, 32]])"
      ]
     },
     "execution_count": 7,
     "metadata": {},
     "output_type": "execute_result"
    }
   ],
   "source": [
    "toeplitz([32,28,28])"
   ]
  },
  {
   "cell_type": "code",
   "execution_count": 8,
   "id": "eb453f46",
   "metadata": {},
   "outputs": [],
   "source": [
    "mat = np.array([[1, 2], [3, 4]])"
   ]
  },
  {
   "cell_type": "code",
   "execution_count": 9,
   "id": "1f6e8f3c",
   "metadata": {},
   "outputs": [
    {
     "data": {
      "text/plain": [
       "True"
      ]
     },
     "execution_count": 9,
     "metadata": {},
     "output_type": "execute_result"
    }
   ],
   "source": [
    "mat.shape == (2,2)"
   ]
  },
  {
   "cell_type": "code",
   "execution_count": 10,
   "id": "dddbdb26",
   "metadata": {},
   "outputs": [],
   "source": [
    "# def scale(i,A):\n",
    "#     #todo\n",
    "\n",
    "# def upper_tringul_mat(A):\n",
    "    \n",
    "#     final_mat=np.zeros(A.shape)\n",
    "#     N = A.shape[0]\n",
    "    \n",
    "#     if A.shape==(1,1):\n",
    "#         print('')\n",
    "#         break\n",
    "    \n",
    "#     else:\n",
    "#         for i in range(N):\n",
    "#             A=scale(i,A)\n",
    "#         for i in range\n",
    "        \n",
    "        \n",
    "    \n",
    "    "
   ]
  },
  {
   "cell_type": "code",
   "execution_count": 11,
   "id": "679a0127",
   "metadata": {},
   "outputs": [
    {
     "data": {
      "text/plain": [
       "array([[0., 0.],\n",
       "       [0., 0.]])"
      ]
     },
     "execution_count": 11,
     "metadata": {},
     "output_type": "execute_result"
    }
   ],
   "source": [
    "np.zeros(mat.shape)"
   ]
  },
  {
   "cell_type": "code",
   "execution_count": 12,
   "id": "f937b8f2",
   "metadata": {},
   "outputs": [
    {
     "data": {
      "text/plain": [
       "2"
      ]
     },
     "execution_count": 12,
     "metadata": {},
     "output_type": "execute_result"
    }
   ],
   "source": [
    "mat.shape[0]"
   ]
  },
  {
   "cell_type": "code",
   "execution_count": 13,
   "id": "79c54765",
   "metadata": {},
   "outputs": [
    {
     "name": "stdout",
     "output_type": "stream",
     "text": [
      "1\n",
      "2\n"
     ]
    }
   ],
   "source": [
    "for i in range(1,3):\n",
    "    print(i)"
   ]
  },
  {
   "cell_type": "code",
   "execution_count": 14,
   "id": "38ccce26",
   "metadata": {},
   "outputs": [],
   "source": [
    "myfile=open('myfile.txt','w')\n",
    "import numpy as np\n",
    "for i in range(20):\n",
    "    temp=(np.random.rand()-0.5)*10\n",
    "    myfile.write('{:8.4f}\\n'.format(temp))\n",
    "    \n",
    "myfile.close()"
   ]
  },
  {
   "cell_type": "code",
   "execution_count": 15,
   "id": "26bde03d",
   "metadata": {},
   "outputs": [],
   "source": [
    "myfile=open('myfile.txt','r')\n",
    "matrix=[]\n",
    "for line in myfile:\n",
    "    matrix.append(float(line))\n",
    "    \n",
    "mat=np.array(matrix)\n",
    "mat=mat.reshape(5,4)\n",
    "myfile.close()"
   ]
  },
  {
   "cell_type": "code",
   "execution_count": 16,
   "id": "43a3b9b2",
   "metadata": {},
   "outputs": [
    {
     "data": {
      "text/plain": [
       "array([[-2.7342,  3.8394,  1.9992,  4.4245],\n",
       "       [-3.7974, -1.4579,  1.4531, -0.3346],\n",
       "       [-1.3149, -0.2888, -4.1895,  0.4668],\n",
       "       [ 3.3681, -4.1287, -0.3057,  4.833 ],\n",
       "       [ 3.6255, -0.2077,  0.3113,  4.1394]])"
      ]
     },
     "execution_count": 16,
     "metadata": {},
     "output_type": "execute_result"
    }
   ],
   "source": [
    "mat"
   ]
  },
  {
   "cell_type": "markdown",
   "id": "f9caed83",
   "metadata": {},
   "source": [
    "Exercise 7"
   ]
  },
  {
   "cell_type": "code",
   "execution_count": 17,
   "id": "00ad4f47",
   "metadata": {},
   "outputs": [],
   "source": [
    "# def makeCirculantMat(A):\n",
    "    "
   ]
  },
  {
   "cell_type": "code",
   "execution_count": 18,
   "id": "b568fccd",
   "metadata": {},
   "outputs": [],
   "source": [
    "X=[1,2,3]"
   ]
  },
  {
   "cell_type": "code",
   "execution_count": 19,
   "id": "d7baa3e8",
   "metadata": {},
   "outputs": [],
   "source": [
    "from scipy.linalg import circulant\n"
   ]
  },
  {
   "cell_type": "code",
   "execution_count": 20,
   "id": "00f4d78f",
   "metadata": {},
   "outputs": [
    {
     "data": {
      "text/plain": [
       "array([[1, 4, 3, 2],\n",
       "       [2, 1, 4, 3],\n",
       "       [3, 2, 1, 4],\n",
       "       [4, 3, 2, 1]])"
      ]
     },
     "execution_count": 20,
     "metadata": {},
     "output_type": "execute_result"
    }
   ],
   "source": [
    "circulant([1,2,3,4])"
   ]
  },
  {
   "cell_type": "code",
   "execution_count": 21,
   "id": "c2f60e03",
   "metadata": {},
   "outputs": [
    {
     "data": {
      "text/plain": [
       "array([[66, 60, 66, 68],\n",
       "       [68, 66, 60, 66],\n",
       "       [66, 68, 66, 60],\n",
       "       [60, 66, 68, 66]])"
      ]
     },
     "execution_count": 21,
     "metadata": {},
     "output_type": "execute_result"
    }
   ],
   "source": [
    "np.dot(circulant([1,2,3,4]),circulant([5,6,7,8]))"
   ]
  },
  {
   "cell_type": "code",
   "execution_count": 22,
   "id": "5bda160c",
   "metadata": {},
   "outputs": [
    {
     "data": {
      "text/plain": [
       "array([[66, 68, 66, 60],\n",
       "       [60, 66, 68, 66],\n",
       "       [66, 60, 66, 68],\n",
       "       [68, 66, 60, 66]])"
      ]
     },
     "execution_count": 22,
     "metadata": {},
     "output_type": "execute_result"
    }
   ],
   "source": [
    "circulant([66,60,66,68])"
   ]
  },
  {
   "cell_type": "code",
   "execution_count": 23,
   "id": "0f125b33",
   "metadata": {},
   "outputs": [],
   "source": [
    "import numpy as np\n",
    "\n",
    "def create_circulant_matrix(first_row):\n",
    "    \"\"\"\n",
    "    Creates a circulant matrix from the given first row.\n",
    "\n",
    "    Args:\n",
    "        first_row (array_like): 1-D array representing the first row (or column).\n",
    "\n",
    "    Returns:\n",
    "        ndarray: A circulant matrix whose first row is `first_row`.\n",
    "    \"\"\"\n",
    "    N = len(first_row)\n",
    "    circulant_matrix = np.empty((N, N))\n",
    "    for i in range(N):\n",
    "        circulant_matrix[i, i:] = first_row[:N - i]\n",
    "        circulant_matrix[i, :i] = first_row[N - i:]\n",
    "    return circulant_matrix"
   ]
  },
  {
   "cell_type": "code",
   "execution_count": 24,
   "id": "df9c4ec9",
   "metadata": {},
   "outputs": [],
   "source": [
    "def circulant_mat_add(A,B):\n",
    "    first_row1=A[0]\n",
    "    first_row2=B[0]\n",
    "    N=len(first_row1)\n",
    "    row=np.zeros(N)\n",
    "    for i in range(N):\n",
    "        row[i] = first_row1[i]+first_row2[i]\n",
    "    return create_circulant_matrix(np.array(row))"
   ]
  },
  {
   "cell_type": "code",
   "execution_count": 25,
   "id": "1d37eb14",
   "metadata": {},
   "outputs": [
    {
     "name": "stdout",
     "output_type": "stream",
     "text": [
      "[[2. 4. 6. 8.]\n",
      " [8. 2. 4. 6.]\n",
      " [6. 8. 2. 4.]\n",
      " [4. 6. 8. 2.]]\n"
     ]
    },
    {
     "data": {
      "text/plain": [
       "array([4., 2., 8., 6.])"
      ]
     },
     "execution_count": 25,
     "metadata": {},
     "output_type": "execute_result"
    }
   ],
   "source": [
    "print(circulant_mat_add(create_circulant_matrix([1,2,3,4]),create_circulant_matrix([1,2,3,4])))\n",
    "\n",
    "circulant_mat_add(create_circulant_matrix([1,2,3,4]),create_circulant_matrix([1,2,3,4])).T[1]"
   ]
  },
  {
   "cell_type": "code",
   "execution_count": 26,
   "id": "ce54cab4",
   "metadata": {},
   "outputs": [
    {
     "data": {
      "text/plain": [
       "array([2., 8., 6., 4.])"
      ]
     },
     "execution_count": 26,
     "metadata": {},
     "output_type": "execute_result"
    }
   ],
   "source": [
    "circulant_mat_add(create_circulant_matrix([1,2,3,4]),create_circulant_matrix([1,2,3,4])).T[0]"
   ]
  },
  {
   "cell_type": "code",
   "execution_count": 27,
   "id": "00e3c1dc",
   "metadata": {},
   "outputs": [],
   "source": [
    "def circulant_mat_mul(A,B):\n",
    "    N = int(A.size**0.5)\n",
    "    first_row=np.zeros(N)\n",
    "    for i in range(N):\n",
    "        first_row[i] = np.dot(A[0],B.T[i])\n",
    "    return create_circulant_matrix(first_row)"
   ]
  },
  {
   "cell_type": "code",
   "execution_count": 28,
   "id": "c5ba3a81",
   "metadata": {},
   "outputs": [],
   "source": [
    "A=create_circulant_matrix([1,2,3,4])"
   ]
  },
  {
   "cell_type": "code",
   "execution_count": 29,
   "id": "af4419f3",
   "metadata": {},
   "outputs": [],
   "source": [
    "B=create_circulant_matrix([5,6,7,8])"
   ]
  },
  {
   "cell_type": "code",
   "execution_count": 30,
   "id": "2376684b",
   "metadata": {},
   "outputs": [
    {
     "data": {
      "text/plain": [
       "array([[66., 68., 66., 60.],\n",
       "       [60., 66., 68., 66.],\n",
       "       [66., 60., 66., 68.],\n",
       "       [68., 66., 60., 66.]])"
      ]
     },
     "execution_count": 30,
     "metadata": {},
     "output_type": "execute_result"
    }
   ],
   "source": [
    "circulant_mat_mul(A,B)"
   ]
  },
  {
   "cell_type": "code",
   "execution_count": null,
   "id": "7b7a6b0d",
   "metadata": {},
   "outputs": [],
   "source": []
  },
  {
   "cell_type": "code",
   "execution_count": null,
   "id": "65005947",
   "metadata": {},
   "outputs": [],
   "source": []
  },
  {
   "cell_type": "code",
   "execution_count": 32,
   "id": "a545cd4c",
   "metadata": {},
   "outputs": [
    {
     "name": "stdout",
     "output_type": "stream",
     "text": [
      "[[1. 2. 3. 4.]\n",
      " [4. 1. 2. 3.]\n",
      " [3. 4. 1. 2.]\n",
      " [2. 3. 4. 1.]]\n",
      "[[5. 6. 7. 8.]\n",
      " [8. 5. 6. 7.]\n",
      " [7. 8. 5. 6.]\n",
      " [6. 7. 8. 5.]]\n"
     ]
    }
   ],
   "source": [
    "print(A)\n",
    "print(B)"
   ]
  },
  {
   "cell_type": "code",
   "execution_count": 33,
   "id": "645d667e",
   "metadata": {},
   "outputs": [
    {
     "data": {
      "text/plain": [
       "66.0"
      ]
     },
     "execution_count": 33,
     "metadata": {},
     "output_type": "execute_result"
    }
   ],
   "source": [
    "np.dot(A[0],B.T[0])"
   ]
  },
  {
   "cell_type": "code",
   "execution_count": 34,
   "id": "4f20e7df",
   "metadata": {},
   "outputs": [
    {
     "data": {
      "text/plain": [
       "array([1., 2., 3., 4.])"
      ]
     },
     "execution_count": 34,
     "metadata": {},
     "output_type": "execute_result"
    }
   ],
   "source": [
    "A[0]"
   ]
  },
  {
   "cell_type": "code",
   "execution_count": 35,
   "id": "81d7ad02",
   "metadata": {},
   "outputs": [
    {
     "data": {
      "text/plain": [
       "array([5., 8., 7., 6.])"
      ]
     },
     "execution_count": 35,
     "metadata": {},
     "output_type": "execute_result"
    }
   ],
   "source": [
    "B.T[0]"
   ]
  },
  {
   "cell_type": "code",
   "execution_count": 36,
   "id": "4cca1dbc",
   "metadata": {},
   "outputs": [
    {
     "data": {
      "text/plain": [
       "array([ 5., 16., 21., 24.])"
      ]
     },
     "execution_count": 36,
     "metadata": {},
     "output_type": "execute_result"
    }
   ],
   "source": [
    "A[0]*B.T[0]"
   ]
  },
  {
   "cell_type": "code",
   "execution_count": 48,
   "id": "7053876f",
   "metadata": {},
   "outputs": [
    {
     "name": "stdout",
     "output_type": "stream",
     "text": [
      "[[1. 2. 3. 4.]\n",
      " [4. 1. 2. 3.]\n",
      " [0. 0. 0. 0.]\n",
      " [0. 0. 0. 0.]]\n"
     ]
    }
   ],
   "source": [
    "C_mat = np.zeros((4,4))\n",
    "\n",
    "first_row=[1,2,3,4]\n",
    "\n",
    "# C_mat[i, i:] = first_row[:N - i]\n",
    "# C_mat[i, :i] = first_row[N - i:]\n",
    "\n",
    "C_mat[0,0:] = first_row[:4]\n",
    "C_mat[0,:0] = first_row[4:]\n",
    "\n",
    "\n",
    "C_mat[1,1:]=first_row[:3]\n",
    "C_mat[1,:1]=first_row[3:]\n",
    "print(C_mat)"
   ]
  },
  {
   "cell_type": "code",
   "execution_count": null,
   "id": "01b350de",
   "metadata": {},
   "outputs": [],
   "source": []
  }
 ],
 "metadata": {
  "kernelspec": {
   "display_name": "Python 3 (ipykernel)",
   "language": "python",
   "name": "python3"
  },
  "language_info": {
   "codemirror_mode": {
    "name": "ipython",
    "version": 3
   },
   "file_extension": ".py",
   "mimetype": "text/x-python",
   "name": "python",
   "nbconvert_exporter": "python",
   "pygments_lexer": "ipython3",
   "version": "3.11.5"
  }
 },
 "nbformat": 4,
 "nbformat_minor": 5
}
