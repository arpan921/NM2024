{
 "cells": [
  {
   "cell_type": "code",
   "execution_count": 10,
   "id": "78a54721",
   "metadata": {},
   "outputs": [],
   "source": [
    "import numpy as np"
   ]
  },
  {
   "cell_type": "code",
   "execution_count": 11,
   "id": "2760e4eb",
   "metadata": {},
   "outputs": [],
   "source": [
    "def dot(A,B):\n",
    "    return (A[0]*B[0] + A[1]*B[1])**0.5"
   ]
  },
  {
   "cell_type": "code",
   "execution_count": 12,
   "id": "ab61f066",
   "metadata": {},
   "outputs": [],
   "source": [
    "def g1(x1,x2):\n",
    "    return (x1/4)+(x2/8)+(11/8)\n",
    "\n",
    "def g2(x1,x2):\n",
    "    return (-x1/8)+(x2/4)+1\n"
   ]
  },
  {
   "cell_type": "code",
   "execution_count": 13,
   "id": "e0b87ab6",
   "metadata": {},
   "outputs": [
    {
     "name": "stdout",
     "output_type": "stream",
     "text": [
      "[0, 0] [1.375, 1.0] 1.7001838135919305\n",
      "[1.84375, 1.01953125] [1.84375, 1.01953125] 0.0\n",
      "[1.96337890625, 1.00946044921875] [1.96337890625, 1.00946044921875] 0.0\n",
      "[1.9920272827148438, 1.003361701965332] [1.9920272827148438, 1.003361701965332] 0.0\n",
      "[1.9984270334243774, 1.0010370463132858] [1.9984270334243774, 1.0010370463132858] 0.0\n"
     ]
    }
   ],
   "source": [
    "#Example 3.2\n",
    "maxiter=5\n",
    "\n",
    "X0 = [0,0]\n",
    "X = [0,0]\n",
    "for i in range(maxiter):\n",
    "    X[0] = g1(X0[0],X0[1])\n",
    "    X[1] = g2(X0[0],X0[1])\n",
    "    diffX = [X[0]-X0[0],X[1]-X0[1]]\n",
    "    error = dot(diffX,diffX)\n",
    "    print(X0,X,error)\n",
    "    X0=X\n",
    "        "
   ]
  },
  {
   "cell_type": "code",
   "execution_count": 14,
   "id": "34a09173",
   "metadata": {},
   "outputs": [
    {
     "name": "stdout",
     "output_type": "stream",
     "text": [
      "[1.375, 0.828125]\n",
      "[1.822265625, 0.979248046875]\n",
      "[1.952972412109375, 1.0006904602050781]\n",
      "[1.9883294105529785, 1.0016314387321472]\n",
      "[1.997286282479763, 1.0007470743730664]\n"
     ]
    }
   ],
   "source": [
    "#Example 3.3\n",
    "#seidel algo \n",
    "X = [0,0]\n",
    "X0 = [0,0]\n",
    "\n",
    "for i in range(maxiter):\n",
    "    X[0] = g1(X[0],X[1])\n",
    "    X[1] = g2(X[0],X[1])\n",
    "    print(X)"
   ]
  },
  {
   "cell_type": "code",
   "execution_count": 15,
   "id": "fc5fd330",
   "metadata": {},
   "outputs": [],
   "source": [
    "import matplotlib.pyplot as plt"
   ]
  },
  {
   "cell_type": "code",
   "execution_count": 16,
   "id": "0b6ce6ea",
   "metadata": {},
   "outputs": [],
   "source": [
    "#Example 3.1\n",
    "\n",
    "def f1(x1,x2):\n",
    "    return x1**2 + x2**2 - 1\n",
    "def f2(x1,x2):\n",
    "    return 2*x1**2 -x2 - 1"
   ]
  },
  {
   "cell_type": "code",
   "execution_count": 17,
   "id": "5d839d86",
   "metadata": {},
   "outputs": [],
   "source": [
    "x_values = np.linspace(-5,5,100)\n",
    "y_values = np.linspace(-5,5,100)\n",
    "\n",
    "X,Y = np.meshgrid(x_values,y_values)"
   ]
  },
  {
   "cell_type": "code",
   "execution_count": 18,
   "id": "cf193cfd",
   "metadata": {},
   "outputs": [],
   "source": [
    "Z = f1(X,Y)\n",
    "Z2= f2(X,Y)"
   ]
  },
  {
   "cell_type": "code",
   "execution_count": 19,
   "id": "2a5ca46e",
   "metadata": {},
   "outputs": [
    {
     "data": {
      "image/png": "[encoded data removed]",
      "text/plain": [
       "<Figure size 640x480 with 1 Axes>"
      ]
     },
     "metadata": {},
     "output_type": "display_data"
    }
   ],
   "source": [
    "plt.contourf(X,Y,Z2)\n",
    "plt.contourf(X,Y,Z)\n",
    "plt.show()"
   ]
  },
  {
   "cell_type": "code",
   "execution_count": null,
   "id": "a49aff0f",
   "metadata": {},
   "outputs": [],
   "source": []
  },
  {
   "cell_type": "code",
   "execution_count": 56,
   "id": "732829c7",
   "metadata": {},
   "outputs": [],
   "source": [
    "#seidel iteration\n",
    "def gs1(x,y,z):\n",
    "    return (11+2*y-z)/6\n",
    "def gs2(x,y,z):\n",
    "    return (-1 +5*z -x)/2\n",
    "def gs3(x,y,z):\n",
    "    return (5+2*x-7*y)/2"
   ]
  },
  {
   "cell_type": "code",
   "execution_count": 66,
   "id": "0b24aa28",
   "metadata": {},
   "outputs": [
    {
     "name": "stdout",
     "output_type": "stream",
     "text": [
      "[2.0, 1.0, 1.0]\n",
      "[2.0, 1.0, 1.0]\n",
      "[2.0, 1.0, 1.0]\n",
      "[2.0, 1.0, 1.0]\n",
      "[2.0, 1.0, 1.0]\n",
      "[2.0, 1.0, 1.0]\n",
      "[2.0, 1.0, 1.0]\n",
      "[2.0, 1.0, 1.0]\n",
      "[2.0, 1.0, 1.0]\n",
      "[2.0, 1.0, 1.0]\n"
     ]
    }
   ],
   "source": [
    "X=[3,1,1]\n",
    "maxIter = 10\n",
    "for i in range(maxIter):\n",
    "    X[0] = gs1(X[0],X[1],X[2])\n",
    "    X[1] = gs2(X[0],X[1],X[2])\n",
    "    X[2] = gs3(X[0],X[1],X[2])\n",
    "    print(X)"
   ]
  },
  {
   "cell_type": "code",
   "execution_count": null,
   "id": "69ddaeaf",
   "metadata": {},
   "outputs": [],
   "source": [
    "X = [0,0]\n",
    "\n",
    "\n",
    "for i in range(maxiter):\n",
    "    X[0] = gs1(X[0],X[1])\n",
    "    X[1] = gs2(X[0],X[1])\n",
    "    print(X)"
   ]
  },
  {
   "cell_type": "code",
   "execution_count": 79,
   "id": "f24dfc5f",
   "metadata": {},
   "outputs": [],
   "source": [
    "A=np.zeros((3,3))"
   ]
  },
  {
   "cell_type": "code",
   "execution_count": 80,
   "id": "e217f8df",
   "metadata": {},
   "outputs": [],
   "source": [
    "D=np.zeros((3,3))\n",
    "D[0][0]=6\n",
    "D[1][1]=2\n",
    "D[2][2]=2"
   ]
  },
  {
   "cell_type": "code",
   "execution_count": 81,
   "id": "f6624b35",
   "metadata": {},
   "outputs": [],
   "source": [
    "A[0][0] = 6\n",
    "A[0][1] = -2\n",
    "A[0][2] = 1\n",
    "\n",
    "A[1][0] = 1\n",
    "A[1][1] = 2\n",
    "A[1][2] = -5\n",
    "\n",
    "A[2][0] = -2\n",
    "A[2][1] = 7\n",
    "A[2][2] = 2"
   ]
  },
  {
   "cell_type": "code",
   "execution_count": 82,
   "id": "1b861cb1",
   "metadata": {},
   "outputs": [],
   "source": [
    "B=np.zeros((3,1))"
   ]
  },
  {
   "cell_type": "code",
   "execution_count": 83,
   "id": "5d6fbf66",
   "metadata": {},
   "outputs": [],
   "source": [
    "B[0][0] = 11\n",
    "B[1][0] = -1\n",
    "B[2][0] = 5"
   ]
  },
  {
   "cell_type": "code",
   "execution_count": 84,
   "id": "7f30591e",
   "metadata": {},
   "outputs": [],
   "source": [
    "X=np.zeros((3,1))\n",
    "C=np.linalg.inv(D)"
   ]
  },
  {
   "cell_type": "code",
   "execution_count": 111,
   "id": "4d02b080",
   "metadata": {},
   "outputs": [],
   "source": [
    "X[0][0]=2\n",
    "X[1][0]=0\n",
    "X[2][0]=0"
   ]
  },
  {
   "cell_type": "code",
   "execution_count": 112,
   "id": "d27f93ca",
   "metadata": {},
   "outputs": [
    {
     "name": "stdout",
     "output_type": "stream",
     "text": [
      "[[ 1.83333333]\n",
      " [-6.5       ]\n",
      " [-3.5       ]]\n",
      "[[ 5.16666667]\n",
      " [-2.5       ]\n",
      " [ 3.5       ]]\n",
      "[[  1.5]\n",
      " [-19.5]\n",
      " [-10.5]]\n",
      "[[11.83333333]\n",
      " [ 5.5       ]\n",
      " [17.5       ]]\n",
      "[[ -5.83333333]\n",
      " [-53.5       ]\n",
      " [-38.5       ]]\n",
      "[[32.5]\n",
      " [55.5]\n",
      " [73.5]]\n",
      "[[ -41.16666667]\n",
      " [-171.5       ]\n",
      " [-150.5       ]]\n",
      "[[109.16666667]\n",
      " [273.5       ]\n",
      " [297.5       ]]\n",
      "[[-188.5]\n",
      " [-625.5]\n",
      " [-598.5]]\n",
      "[[ 409.83333333]\n",
      " [1163.5       ]\n",
      " [1193.5       ]]\n"
     ]
    }
   ],
   "source": [
    "for i in range(10):\n",
    "    Y=np.dot(np.diag(A),X) - B\n",
    "    X=X-np.dot(C,Y)\n",
    "    print(X)"
   ]
  },
  {
   "cell_type": "code",
   "execution_count": 114,
   "id": "061237f1",
   "metadata": {},
   "outputs": [
    {
     "data": {
      "image/png": "[encoded data removed]",
      "text/plain": [
       "<Figure size 640x480 with 1 Axes>"
      ]
     },
     "metadata": {},
     "output_type": "display_data"
    }
   ],
   "source": [
    "import matplotlib.pyplot as plt \n",
    "\n",
    "x1 = np.linspace(-1.0, 1.0, 100) \n",
    "x2 = np.linspace(-1.0, 1.0, 100) \n",
    "X1, X2 = np.meshgrid(x1,x2) \n",
    "F1 = X1-np.sinh(X2)\n",
    "F2 = np.cosh(X1) + 2*X2\n",
    "fig = plt.figure() \n",
    "ax = fig.add_subplot(111) \n",
    "\n",
    "plt.contour(X1,X2,F1,[0]) # f1(X) \n",
    "plt.contour(X1,X2,F2,[0]) # f2(X) \n",
    "\n",
    "ax.set_aspect('equal', adjustable='box') \n",
    "\n",
    "plt.xlabel(\"x1\") \n",
    "\n",
    "plt.ylabel(\"x2\") \n",
    "plt.xlim(-1.5, 1.5) \n",
    "plt.ylim(-1.5, 1.5) \n",
    "\n",
    "plt.grid() \n",
    "plt.show()"
   ]
  },
  {
   "cell_type": "code",
   "execution_count": 123,
   "id": "f8b6c094",
   "metadata": {},
   "outputs": [
    {
     "name": "stdout",
     "output_type": "stream",
     "text": [
      "[0.5210953054937474, 0.5694351789977871]\n",
      "[0.6007118147509292, 0.5929593490087277]\n",
      "[0.6283228460956838, 0.6019874913705712]\n",
      "[0.6390109430208166, 0.6056050708095468]\n",
      "[0.6433082342722083, 0.6070790427961108]\n",
      "[0.645061563580847, 0.6076836538166206]\n",
      "[0.6457811697647206, 0.6079323405089916]\n",
      "[0.6460772244075399, 0.6080347445991803]\n",
      "[0.6461991452634765, 0.6080769320168267]\n",
      "[0.6462493749748028, 0.6080943152801289]\n"
     ]
    }
   ],
   "source": [
    "X = [0.5,0.5]\n",
    "\n",
    "maxiter=10\n",
    "for i in range(maxiter):\n",
    "    X[0] = np.sinh(X[1])\n",
    "    X[1] = np.cosh(X[0])/2\n",
    "    print(X)"
   ]
  },
  {
   "cell_type": "code",
   "execution_count": null,
   "id": "8d59142f",
   "metadata": {},
   "outputs": [],
   "source": []
  },
  {
   "cell_type": "code",
   "execution_count": null,
   "id": "a2470ca9",
   "metadata": {},
   "outputs": [],
   "source": []
  }
 ],
 "metadata": {
  "kernelspec": {
   "display_name": "Python 3 (ipykernel)",
   "language": "python",
   "name": "python3"
  },
  "language_info": {
   "codemirror_mode": {
    "name": "ipython",
    "version": 3
   },
   "file_extension": ".py",
   "mimetype": "text/x-python",
   "name": "python",
   "nbconvert_exporter": "python",
   "pygments_lexer": "ipython3",
   "version": "3.11.5"
  }
 },
 "nbformat": 4,
 "nbformat_minor": 5
}
