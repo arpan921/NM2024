{
 "cells": [
  {
   "cell_type": "code",
   "execution_count": 1,
   "id": "b0f10f3d",
   "metadata": {},
   "outputs": [],
   "source": [
    "import numpy as np"
   ]
  },
  {
   "cell_type": "code",
   "execution_count": 2,
   "id": "fbd93c9b",
   "metadata": {},
   "outputs": [
    {
     "name": "stdout",
     "output_type": "stream",
     "text": [
      "2.220446049250313e-16\n"
     ]
    }
   ],
   "source": [
    "print(7./3-4./3-1)"
   ]
  },
  {
   "cell_type": "code",
   "execution_count": 8,
   "id": "1e2fe354",
   "metadata": {},
   "outputs": [
    {
     "data": {
      "text/plain": [
       "-2.220446049250313e-16"
      ]
     },
     "execution_count": 8,
     "metadata": {},
     "output_type": "execute_result"
    }
   ],
   "source": [
    "8./3-5./3-1"
   ]
  },
  {
   "cell_type": "code",
   "execution_count": 10,
   "id": "ae28a108",
   "metadata": {},
   "outputs": [
    {
     "data": {
      "text/plain": [
       "2.6666666666666665"
      ]
     },
     "execution_count": 10,
     "metadata": {},
     "output_type": "execute_result"
    }
   ],
   "source": [
    "8./3"
   ]
  },
  {
   "cell_type": "code",
   "execution_count": 11,
   "id": "4526a215",
   "metadata": {},
   "outputs": [
    {
     "data": {
      "text/plain": [
       "1.6666666666666667"
      ]
     },
     "execution_count": 11,
     "metadata": {},
     "output_type": "execute_result"
    }
   ],
   "source": [
    "5./3"
   ]
  },
  {
   "cell_type": "code",
   "execution_count": 12,
   "id": "aa8dd023",
   "metadata": {},
   "outputs": [
    {
     "data": {
      "text/plain": [
       "-2.220446049250313e-16"
      ]
     },
     "execution_count": 12,
     "metadata": {},
     "output_type": "execute_result"
    }
   ],
   "source": [
    "2.6666666666666665 - 1.6666666666666667 -1"
   ]
  },
  {
   "cell_type": "code",
   "execution_count": 13,
   "id": "31a4b5c6",
   "metadata": {},
   "outputs": [
    {
     "data": {
      "text/plain": [
       "2.3333333333333335"
      ]
     },
     "execution_count": 13,
     "metadata": {},
     "output_type": "execute_result"
    }
   ],
   "source": [
    "7./3"
   ]
  },
  {
   "cell_type": "code",
   "execution_count": 14,
   "id": "2fd049dc",
   "metadata": {},
   "outputs": [
    {
     "data": {
      "text/plain": [
       "1.3333333333333333"
      ]
     },
     "execution_count": 14,
     "metadata": {},
     "output_type": "execute_result"
    }
   ],
   "source": [
    "4./3"
   ]
  },
  {
   "cell_type": "code",
   "execution_count": 16,
   "id": "436519cd",
   "metadata": {},
   "outputs": [
    {
     "data": {
      "text/plain": [
       "1e-16"
      ]
     },
     "execution_count": 16,
     "metadata": {},
     "output_type": "execute_result"
    }
   ],
   "source": [
    "10**-16"
   ]
  },
  {
   "cell_type": "code",
   "execution_count": null,
   "id": "e454024e",
   "metadata": {},
   "outputs": [],
   "source": [
    "np.finfo(float).eps"
   ]
  },
  {
   "cell_type": "code",
   "execution_count": null,
   "id": "4f8cc076",
   "metadata": {},
   "outputs": [],
   "source": []
  }
 ],
 "metadata": {
  "kernelspec": {
   "display_name": "Python 3 (ipykernel)",
   "language": "python",
   "name": "python3"
  },
  "language_info": {
   "codemirror_mode": {
    "name": "ipython",
    "version": 3
   },
   "file_extension": ".py",
   "mimetype": "text/x-python",
   "name": "python",
   "nbconvert_exporter": "python",
   "pygments_lexer": "ipython3",
   "version": "3.11.5"
  }
 },
 "nbformat": 4,
 "nbformat_minor": 5
}
